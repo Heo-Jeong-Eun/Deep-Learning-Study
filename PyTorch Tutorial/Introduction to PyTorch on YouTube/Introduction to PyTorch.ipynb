{
 "cells": [
  {
   "cell_type": "markdown",
   "id": "cffcff97-5d9a-4ef2-aecd-9de39993e395",
   "metadata": {},
   "source": [
    "# Introduction to PyTorch\n",
    "PyTorch 소개 \n",
    "\n",
    "## PyTorch Tensors"
   ]
  },
  {
   "cell_type": "code",
   "execution_count": 1,
   "id": "858fa870-5ab6-457e-be6f-97a4e3ee97f3",
   "metadata": {},
   "outputs": [],
   "source": [
    "import torch"
   ]
  },
  {
   "cell_type": "code",
   "execution_count": 2,
   "id": "4d5c9885-e7bc-42ad-aa4d-930868c043d2",
   "metadata": {},
   "outputs": [
    {
     "name": "stdout",
     "output_type": "stream",
     "text": [
      "tensor([[0., 0., 0.],\n",
      "        [0., 0., 0.],\n",
      "        [0., 0., 0.],\n",
      "        [0., 0., 0.],\n",
      "        [0., 0., 0.]])\n",
      "torch.float32\n"
     ]
    }
   ],
   "source": [
    "z = torch.zeros(5, 3)\n",
    "print(z)\n",
    "print(z.dtype)"
   ]
  },
  {
   "cell_type": "code",
   "execution_count": 5,
   "id": "32846806-bbbc-46e1-a3bd-6f1ebe9620c1",
   "metadata": {},
   "outputs": [
    {
     "name": "stdout",
     "output_type": "stream",
     "text": [
      "tensor([[1, 1, 1],\n",
      "        [1, 1, 1],\n",
      "        [1, 1, 1],\n",
      "        [1, 1, 1],\n",
      "        [1, 1, 1]], dtype=torch.int16)\n"
     ]
    }
   ],
   "source": [
    "# 정수형 데이터 타입을 원하는 경우 기본값을 재정의 할 수 있다. \n",
    "i = torch.ones((5, 3), dtype = torch.int16)\n",
    "print(i)"
   ]
  },
  {
   "cell_type": "code",
   "execution_count": 9,
   "id": "1c85b9f5-7d2c-4b64-aab6-da345c063c6f",
   "metadata": {},
   "outputs": [
    {
     "name": "stdout",
     "output_type": "stream",
     "text": [
      "랜덤 tensor 값 :\n",
      "tensor([[0.3126, 0.3791],\n",
      "        [0.3087, 0.0736]])\n",
      "\n",
      "다른 랜덤 tensor 값 :\n",
      "tensor([[0.4216, 0.0691],\n",
      "        [0.2332, 0.4047]])\n",
      "\n",
      "r1과 일치 :\n",
      "tensor([[0.3126, 0.3791],\n",
      "        [0.3087, 0.0736]])\n"
     ]
    }
   ],
   "source": [
    "# 학습 가중치를 무작위로 초기화 하는 것이 일반적이며, 종종 결과의 재현성을 위해 PRNG에 대한 특정 시드로 초기화 한다. \n",
    "torch.manual_seed(1729)\n",
    "r1 = torch.rand(2, 2)\n",
    "print('랜덤 tensor 값 :')\n",
    "print(r1)\n",
    "\n",
    "r2 = torch.rand(2, 2)\n",
    "print('\\n다른 랜덤 tensor 값 :')\n",
    "print(r2) # 새로운 2x2 행렬 값\n",
    "\n",
    "torch.manual_seed(1729)\n",
    "r3 = torch.rand(2, 2)\n",
    "print('\\nr1과 일치 :')\n",
    "print(r3) # 동일한 시드값으로 인해 r1 값이 반복되어 행렬값으로 나온다. "
   ]
  },
  {
   "cell_type": "code",
   "execution_count": 10,
   "id": "8ec2dbc8-020a-4b67-aa94-ea74d911717c",
   "metadata": {},
   "outputs": [
    {
     "name": "stdout",
     "output_type": "stream",
     "text": [
      "tensor([[1., 1., 1.],\n",
      "        [1., 1., 1.]])\n",
      "tensor([[2., 2., 2.],\n",
      "        [2., 2., 2.]])\n",
      "tensor([[3., 3., 3.],\n",
      "        [3., 3., 3.]])\n",
      "torch.Size([2, 3])\n"
     ]
    }
   ],
   "source": [
    "# PyTorch tensor는 산술 연산을 직관적으로 수행한다. 유사한 shape의 tensor들을 더하거나, 곱하고 이외 연산도 가능하다. \n",
    "# 스칼라를 사용한 연산은 tensor에 분산된다. \n",
    "ones = torch.ones(2, 3)\n",
    "print(ones)\n",
    "\n",
    "twos = torch.ones(2, 3) * 2 # 모든 원소에 2를 곱한다. \n",
    "print(twos)\n",
    "\n",
    "threes = ones + twos # shape이 비슷하기 때문에 더할 수 있다.\n",
    "print(threes) # tensor의 원소별 더한 값이 결과로 나온다.\n",
    "print(threes.shape) # 입력 tensor와 동일한 차원을 가지고 있다.\n",
    "\n",
    "r1 = torch.rand(2, 3)\n",
    "r2 = torch.rand(3, 2)\n",
    "# 런타임 오류를 발생시키려면 아래 줄의 주석을 해제한다.\n",
    "# r3 = r1 + r2"
   ]
  },
  {
   "cell_type": "code",
   "execution_count": 11,
   "id": "0fab8417-0740-41ca-81df-31fd8034e9cf",
   "metadata": {},
   "outputs": [
    {
     "name": "stdout",
     "output_type": "stream",
     "text": [
      "랜덤 행렬값, r :\n",
      "tensor([[ 0.9956, -0.2232],\n",
      "        [ 0.3858, -0.6593]])\n",
      "\n",
      "r의 절대값 :\n",
      "tensor([[0.9956, 0.2232],\n",
      "        [0.3858, 0.6593]])\n",
      "\n",
      "r의 역 사인 함수 :\n",
      "tensor([[ 1.4775, -0.2251],\n",
      "        [ 0.3961, -0.7199]])\n",
      "\n",
      "r의 행렬식 :\n",
      "tensor(-0.5703)\n",
      "\n",
      "r의 특이값 분해 :\n",
      "torch.return_types.svd(\n",
      "U=tensor([[-0.8353, -0.5497],\n",
      "        [-0.5497,  0.8353]]),\n",
      "S=tensor([1.1793, 0.4836]),\n",
      "V=tensor([[-0.8851, -0.4654],\n",
      "        [ 0.4654, -0.8851]]))\n",
      "\n",
      "r의 평균 및 표준편차 :\n",
      "(tensor(0.7217), tensor(0.1247))\n",
      "\n",
      "r의 최대값:\n",
      "tensor(0.9956)\n"
     ]
    }
   ],
   "source": [
    "r = (torch.rand(2, 2) - 0.5) * 2 # -1과 1 사이의 값을 가진다.\n",
    "print('랜덤 행렬값, r :')\n",
    "print(r)\n",
    "\n",
    "# 일반적인 수학적 연산은 다음과 같이 지원된다. \n",
    "print('\\nr의 절대값 :')\n",
    "print(torch.abs(r))\n",
    "\n",
    "# 삼각함수를 사용할 수 있다.\n",
    "print('\\nr의 역 사인 함수 :')\n",
    "print(torch.asin(r))\n",
    "\n",
    "# 행렬식 및 특이값 분해와 같은 선형 대수 연산을 사용할 수 있다.\n",
    "print('\\nr의 행렬식 :')\n",
    "print(torch.det(r))\n",
    "print('\\nr의 특이값 분해 :')\n",
    "print(torch.svd(r))\n",
    "\n",
    "# 통계 및 집합 연산 등을 사용할 수 있다.\n",
    "print('\\nr의 평균 및 표준편차 :')\n",
    "print(torch.std_mean(r))\n",
    "print('\\nr의 최대값:')\n",
    "print(torch.max(r))"
   ]
  },
  {
   "cell_type": "markdown",
   "id": "005f349c-1fba-41e5-946e-3d5160d45918",
   "metadata": {},
   "source": [
    "## PyTorch Models"
   ]
  },
  {
   "cell_type": "code",
   "execution_count": 12,
   "id": "6467a549-99ce-4056-be07-cdeca7cc3c69",
   "metadata": {},
   "outputs": [],
   "source": [
    "import torch # PyTorch 모든 모듈 가져오기\n",
    "import torch.nn as nn # torch.nn.Module의 경우 PyTorch model의 부모 객체\n",
    "import torch.nn.functional as F # 활성화 함수 모듈 가져오기"
   ]
  },
  {
   "cell_type": "markdown",
   "id": "a83624bf-6ba0-40ed-942f-bcda63d50f3c",
   "metadata": {},
   "source": [
    "<img src = \"https://tutorials.pytorch.kr/_images/mnist.png\">\n",
    "\n",
    "LeNet-5의 다이어그램은 초기 합성곱 신경망 중 하나이자 딥 러닝에서 폭발적인 인기를 일으킨 요인중 하나이다. <br>\n",
    "손으로 쓴 숫자 이미지(MNIST 데이터셋)를 읽고 이미지에 어떤 숫자가 표현되었는지 정확하게 분류하기 위해 제작되었다.\n",
    "\n",
    "**LeNet-5 동작 방식**\n",
    "- 계층 C1은 합성곱 계층이다. 즉, 입력 이미지에서 학습 중에 배웠던 특징을 검색한다. 이미지에서 학습된 각 특징을 위치에 대한 출력 맵을 보여준다. 이 “활성화 맵” 으로 S2 계층에서 다운샘플링된다.\n",
    "- 계층 C3는 다른 합성곱 계층으로, 이 시점은 특징들의 조합 을 위해 C1 활성화 맵 검색한다. 또한, 계층 S4에서 다운샘플링된 이러한 특징 조합의 spatial locations을 제공한다.\n",
    "- 마지막으로, 완전 연결 계층(fully-connected layers)인 F5, F6, OUTPUT은 최종 활성화 맵을 가져와 십진수를 표현하는 10개의 bin 중 하나로 분류 하는 분류기이다."
   ]
  },
  {
   "cell_type": "code",
   "execution_count": 13,
   "id": "73a07859-0f3b-4f91-a06d-698627c36262",
   "metadata": {},
   "outputs": [],
   "source": [
    "class LeNet(nn.Module):\n",
    "\n",
    "    def __init__(self):\n",
    "        super(LeNet, self).__init__()\n",
    "        # 입력 이미지 채널, 6개의 output 채널, 5x5 정방 합성곱 커널을 사용\n",
    "        self.conv1 = nn.Conv2d(1, 6, 5)\n",
    "        self.conv2 = nn.Conv2d(6, 16, 5)\n",
    "        # 아핀 변환: y = Wx + b\n",
    "        self.fc1 = nn.Linear(16 * 5 * 5, 120)  # 5x5 이미지 차원\n",
    "        self.fc2 = nn.Linear(120, 84)\n",
    "        self.fc3 = nn.Linear(84, 10)\n",
    "\n",
    "    def forward(self, x):\n",
    "        # 최대 풀링은 (2, 2) 윈도우 크기를 사용한다.\n",
    "        x = F.max_pool2d(F.relu(self.conv1(x)), (2, 2))\n",
    "        # 크기가 정방 사이즈인 경우, 단일 숫자만 지정할 수 있다.\n",
    "        x = F.max_pool2d(F.relu(self.conv2(x)), 2)\n",
    "        x = x.view(-1, self.num_flat_features(x))\n",
    "        x = F.relu(self.fc1(x))\n",
    "        x = F.relu(self.fc2(x))\n",
    "        x = self.fc3(x)\n",
    "        return x\n",
    "\n",
    "    def num_flat_features(self, x):\n",
    "        size = x.size()[1:]  # 크기는 배치 차원을 제외한 모든 차원을 가져온다.\n",
    "        num_features = 1\n",
    "        for s in size:\n",
    "            num_features *= s\n",
    "        return num_features"
   ]
  },
  {
   "cell_type": "markdown",
   "id": "c0320c7a-e55d-4c1d-91d9-707d4e75d30b",
   "metadata": {},
   "source": [
    "코드를 살펴보면 구조적으로 위 다이어그램과 유사점을 발견할 수 있다.\n",
    "\n",
    "다음은 일반적인 PyTorch 모델의 구조를 보여준다. \n",
    "- 모듈은 중첩될 수 있으며 torch.nn.Module 에서 상속된다. 실제로, Conv2d 와 Linear 계층 클래스도 torch.nn.Module 에서 상속된다.\n",
    "- 모델은 계층을 인스턴스화하고 필요한 데이터 아티팩트를 로드하는 \\__init__() 함수를 가지고 있다. (예를들면 NLP 모델은 어휘를 불러올 수 있다.)\n",
    "- 모델은 forward() 함수를 가지고 있다. 여기서 실제 계산이 수행된다. 입력은 네트워크 계층 및 다양한 기능들을 통과시켜 결과를 생성한다.\n",
    "- 그 외에는 다른 파이썬 클래스처럼 모델 클래스를 구성할 수 있다. Python 클래스, 모델의 계산을 지원하는 데 필요한 속성 및 메서드를 추가한다.\n",
    "\n",
    "만든 오브젝트를 인스턴스화하고 샘플 입력을 통해 실행한다."
   ]
  },
  {
   "cell_type": "code",
   "execution_count": 15,
   "id": "88672cd3-3477-4487-b17a-855ad79482df",
   "metadata": {},
   "outputs": [
    {
     "name": "stdout",
     "output_type": "stream",
     "text": [
      "LeNet(\n",
      "  (conv1): Conv2d(1, 6, kernel_size=(5, 5), stride=(1, 1))\n",
      "  (conv2): Conv2d(6, 16, kernel_size=(5, 5), stride=(1, 1))\n",
      "  (fc1): Linear(in_features=400, out_features=120, bias=True)\n",
      "  (fc2): Linear(in_features=120, out_features=84, bias=True)\n",
      "  (fc3): Linear(in_features=84, out_features=10, bias=True)\n",
      ")\n",
      "\n",
      "이미지 배치 shape :\n",
      "torch.Size([1, 1, 32, 32])\n",
      "\n",
      " : 결과 값\n",
      "tensor([[-0.0611,  0.0157, -0.0386, -0.0371, -0.0438,  0.0625,  0.0630,  0.0102,\n",
      "         -0.0655, -0.0349]], grad_fn=<AddmmBackward0>)\n",
      "torch.Size([1, 10])\n"
     ]
    }
   ],
   "source": [
    "net = LeNet()\n",
    "print(net) \n",
    "\n",
    "input = torch.rand(1, 1, 32, 32) # 32x32 크기의 1채널의 흑백 이미지를 만든다.\n",
    "print('\\n이미지 배치 shape :')\n",
    "print(input.shape)\n",
    "\n",
    "output = net(input) # 객체로부터 직접 forward() 함수를 호출하지 않는다.\n",
    "print('\\n : 결과 값')\n",
    "print(output)\n",
    "print(output.shape)"
   ]
  },
  {
   "cell_type": "markdown",
   "id": "5ef35011-26b3-48bc-9bfa-d18809e61873",
   "metadata": {},
   "source": [
    "- 첫째, LeNet 클래스를 인스턴스화하고 net 객체를 출력한다. torch.nn.Module 의 하위 클래스는 생성된 레이어의 모양과 파라미터를 알려준다. 모델의 처리 결과를 얻으려는 경우, 모델의 편리한 기능을 제공할 수 있다. \n",
    "- 아래에서 1 채널과 32 x 32 이미지크기를 가진 더미 입력을 생성한다. 일반적으로 배치 이미지를읽어들이고,이미지와 같은 크기의 텐서로 변환한다.\n",
    "- tensor 의 추가 차원인 batch 차원을 알아챘을 수 있다. PyTorch 모델은 데이터의 batch 에 작업한다고 가정한다. 예를들어 16개 이미지의 배치는 (1, 1, 32, 32) 모양을 가질 것이다. 이 샘플에서는 하나의 이미지만 사용하기 때문에 (1, 1, 32, 32) 모양을 가진 batch를 만든다.\n",
    "- 모델을 함수처럼 net(input)를 호출하여 추론을 요청한다. 호출의 결과는 입력 이미지가 특정 숫자를 나타내는 모델의 신뢰도를 나타낸다. (모델의 인스턴스는 아직 아무것도 학습하지 않았기 때문에 출력에서 좋은 결과를 기대해서는 안 된다.) output 결과를 확인해보면 batch 차원을 가지고 있다는 것을 알 수 있는데, 크기는 항상 입력 batch 차원과 일치해야 한다. 만약 16개의 인스턴스로 이루어진 입력으로 모델을 통과했다면 output 는 (16, 10)의 형태를 가지고 있다."
   ]
  },
  {
   "cell_type": "markdown",
   "id": "805a10cf-bd13-458f-b3c8-5794de856b9f",
   "metadata": {},
   "source": [
    "## Datasets 및 Dataloaders\n",
    "\n",
    "TorchVision에서 바로 다운로드할 수 있는 오픈 데이터셋 중 하나를 사용하여 모델을 통해 이미지를 변환하는 방법, DataLoader를 사용하여 모델에 데이터 배치를 제공하는 방법을 학습한다. "
   ]
  },
  {
   "cell_type": "code",
   "execution_count": 17,
   "id": "eff50f8b-1d9c-475b-bc4b-76914ffc1c7c",
   "metadata": {},
   "outputs": [],
   "source": [
    "#%matplotlib inline\n",
    "\n",
    "import torch\n",
    "import torchvision\n",
    "import torchvision.transforms as transforms\n",
    "\n",
    "transform = transforms.Compose(\n",
    "    [transforms.ToTensor(),\n",
    "     transforms.Normalize((0.5, 0.5, 0.5), (0.5, 0.5, 0.5))])"
   ]
  },
  {
   "cell_type": "markdown",
   "id": "cb626855-006c-45ce-b8f8-444278f2e926",
   "metadata": {},
   "source": [
    "우선 들어오는 이미지를 Pytorch tensor로 변환한다. <br>\n",
    "여기서는 입력에 대한 두 가지 변환을 지정한다. <br>\n",
    "\n",
    "transforms.ToTensor()는 Pillow 패키지를 사용하여 불러온 이미지를 PyTorch tensor 형태로 변환한다. <br>\n",
    "transforms.Normalize() 는 tensor의 평균이 0이고 표준 편차가 0.5가 되도록 tensor의 값을 조정한다. 대부분의 활성화 함수는 약 x=0에 강한 기울기 값을 가지고 있어 데이터를 중앙으로 집중화하여 학습 속도를 높일 수 있다. <br>\n",
    "transforms 는 cropping, centering, rotation, reflection를 포함하여 더 많은 변환이 가능하다. <br>\n",
    "\n",
    "다음으로 CIFAR10 데이터셋의 인스턴스를 만든다. CIFAR10 데이터셋은 동물(새, 고양이, 사슴, 개, 개구리, 말) 6종과 차량(비행기, 자동차, 배, 트럭) 4종의 클래스로 이루어진 데이터셋이다."
   ]
  },
  {
   "cell_type": "code",
   "execution_count": 18,
   "id": "0e836642-0898-41e2-8dfb-b05e3768a2ed",
   "metadata": {},
   "outputs": [
    {
     "name": "stdout",
     "output_type": "stream",
     "text": [
      "Downloading https://www.cs.toronto.edu/~kriz/cifar-10-python.tar.gz to ./data/cifar-10-python.tar.gz\n"
     ]
    },
    {
     "name": "stderr",
     "output_type": "stream",
     "text": [
      "100%|████████████████████████| 170498071/170498071 [00:22<00:00, 7668949.79it/s]\n"
     ]
    },
    {
     "name": "stdout",
     "output_type": "stream",
     "text": [
      "Extracting ./data/cifar-10-python.tar.gz to ./data\n"
     ]
    }
   ],
   "source": [
    "trainset = torchvision.datasets.CIFAR10(root = './data', train = True,\n",
    "                                        download = True, transform = transform)"
   ]
  },
  {
   "cell_type": "markdown",
   "id": "cec4a9cc-d75d-4c77-a375-efc17539f98a",
   "metadata": {},
   "source": [
    "PyTorch에서 데이터셋 객체를 만드는 예제이다. <br>\n",
    "다운로드 가능한 데이터셋 (CIFAR-10과 같은)는 torch.utils.data.Dataset의 하위 클래스이다. <br>\n",
    "PyTorch의 Dataset 클래스에는 TorchVision, Torchtext 및 TorchAudio 등 다운로드 가능한 데이터셋 뿐 아니라 레이블된 이미지의 폴더를 읽는 torchvision.datasets.ImageFolder 와 같은 유틸리티 데이터셋 클래스가 포함된다. 또한, Dataset 의 하위 클래스를 직접 만들 수 있다. <br>\n",
    "\n",
    "**데이터셋을 인스턴스화할 때 몇 가지 파라미터를 선언해야 한다.**\n",
    "\n",
    "- 데이터를 저장하려는 파일 시스템 경로이다.\n",
    "- 데이터셋을 학습에 사용하는지 여부를 확인하여 대부분의 데이터셋은 학습 및 테스트 데이터셋으로 분할된다.\n",
    "- 데이터셋을 다운로드할지에 대한 여부를 확인한다.\n",
    "- 데이터에 적용하려는 변환 객체를 넣어준다.\n",
    "- 데이터셋 다운로드가 끝나면 ``DataLoader``에 사용할 수 있다."
   ]
  },
  {
   "cell_type": "code",
   "execution_count": 19,
   "id": "63a9166e-f8e9-42a2-a8ca-2b58bcf676b8",
   "metadata": {},
   "outputs": [],
   "source": [
    "trainloader = torch.utils.data.DataLoader(trainset, batch_size = 4,\n",
    "                                          shuffle = True, num_workers = 2)"
   ]
  },
  {
   "cell_type": "markdown",
   "id": "1eecd4a6-34d3-402b-ab14-ac5846710e6c",
   "metadata": {},
   "source": [
    "Dataset 하위 클래스는 데이터 접근에 대한 클래스를 포함하며, 해당 서브 클래스가 제공하는 데이터 유형에 특화되어 있다. <br>\n",
    "DataLoader 는 데이터에 대해 아무것도 알지 못하지만 Dataset 이 제공하는 입력 tensor를 사용자가 지정한 파라미터로 구성한다. "
   ]
  },
  {
   "cell_type": "code",
   "execution_count": 20,
   "id": "531a2bec-1fcf-448a-b1c6-ade53ca9821a",
   "metadata": {},
   "outputs": [
    {
     "name": "stdout",
     "output_type": "stream",
     "text": [
      "  cat truck  deer truck\n"
     ]
    },
    {
     "data": {
      "image/png": "[encoded data removed]",
      "text/plain": [
       "<Figure size 640x480 with 1 Axes>"
      ]
     },
     "metadata": {},
     "output_type": "display_data"
    }
   ],
   "source": [
    "# 위 예제에서 DataLoader 에서에서 무작위 추출( shuffle=True )한 4개의 batch 이미지를 trainset 에서 추출하고 disk에서 데이터를 로드하기 위해 2개의 workers를 spin up 했다.\n",
    "import matplotlib.pyplot as plt\n",
    "import numpy as np\n",
    "\n",
    "classes = ('plane', 'car', 'bird', 'cat',\n",
    "           'deer', 'dog', 'frog', 'horse', 'ship', 'truck')\n",
    "\n",
    "def imshow(img):\n",
    "    img = img / 2 + 0.5     # 역정규화\n",
    "    npimg = img.numpy()\n",
    "    plt.imshow(np.transpose(npimg, (1, 2, 0)))\n",
    "\n",
    "\n",
    "# 무작위로 학습 이미지 추출하기\n",
    "dataiter = iter(trainloader)\n",
    "images, labels = next(dataiter)\n",
    "\n",
    "# 이미지 보여주기\n",
    "imshow(torchvision.utils.make_grid(images))\n",
    "# labels 출력하기\n",
    "print(' '.join('%5s' % classes[labels[j]] for j in range(4)))"
   ]
  },
  {
   "cell_type": "markdown",
   "id": "140cbdfd-294c-4dd5-8c26-566d1fb87413",
   "metadata": {},
   "source": [
    "## PyTorch 모델 학습"
   ]
  },
  {
   "cell_type": "code",
   "execution_count": 21,
   "id": "3ec02454-0c6b-4755-be88-c69fd6ee32de",
   "metadata": {},
   "outputs": [],
   "source": [
    "#%matplotlib inline\n",
    "\n",
    "import torch\n",
    "import torch.nn as nn\n",
    "import torch.nn.functional as F\n",
    "import torch.optim as optim\n",
    "\n",
    "import torchvision\n",
    "import torchvision.transforms as transforms\n",
    "\n",
    "import matplotlib\n",
    "import matplotlib.pyplot as plt\n",
    "import numpy as np"
   ]
  },
  {
   "cell_type": "code",
   "execution_count": 22,
   "id": "237f16ad-c76c-4142-a668-bb2bedc70b3a",
   "metadata": {},
   "outputs": [
    {
     "name": "stdout",
     "output_type": "stream",
     "text": [
      "Files already downloaded and verified\n",
      "Files already downloaded and verified\n"
     ]
    }
   ],
   "source": [
    "# 첫째로, 학습 및 테스트 데이터셋이 필요하다.\n",
    "transform = transforms.Compose(\n",
    "    [transforms.ToTensor(),\n",
    "     transforms.Normalize((0.5, 0.5, 0.5), (0.5, 0.5, 0.5))])\n",
    "\n",
    "trainset = torchvision.datasets.CIFAR10(root = './data', train = True,\n",
    "                                        download = True, transform = transform)\n",
    "trainloader = torch.utils.data.DataLoader(trainset, batch_size = 4,\n",
    "                                          shuffle = True, num_workers = 2)\n",
    "\n",
    "testset = torchvision.datasets.CIFAR10(root = './data', train = False,\n",
    "                                       download = True, transform = transform)\n",
    "testloader = torch.utils.data.DataLoader(testset, batch_size = 4,\n",
    "                                         shuffle = False, num_workers = 2)\n",
    "\n",
    "classes = ('plane', 'car', 'bird', 'cat',\n",
    "           'deer', 'dog', 'frog', 'horse', 'ship', 'truck')"
   ]
  },
  {
   "cell_type": "code",
   "execution_count": 24,
   "id": "287330b7-eb2d-4d4b-acec-87fed577da8e",
   "metadata": {},
   "outputs": [
    {
     "name": "stdout",
     "output_type": "stream",
     "text": [
      "  dog horse truck   dog\n"
     ]
    },
    {
     "data": {
      "image/png": "[encoded data removed]",
      "text/plain": [
       "<Figure size 640x480 with 1 Axes>"
      ]
     },
     "metadata": {},
     "output_type": "display_data"
    }
   ],
   "source": [
    "import matplotlib.pyplot as plt\n",
    "import numpy as np\n",
    "\n",
    "# 아래 함수는 이미지를 시각화하여 보여주는 함수이다. \n",
    "def imshow(img):\n",
    "    img = img / 2 + 0.5     # 역정규화\n",
    "    npimg = img.numpy()\n",
    "    plt.imshow(np.transpose(npimg, (1, 2, 0)))\n",
    "\n",
    "# 무작위로 학습 이미지를 가져오기\n",
    "dataiter = iter(trainloader)\n",
    "images, labels = next(dataiter)\n",
    "\n",
    "# 이미지 시각화하기\n",
    "imshow(torchvision.utils.make_grid(images))\n",
    "# 정답 label 출력하기\n",
    "print(' '.join('%5s' % classes[labels[j]] for j in range(4)))"
   ]
  },
  {
   "cell_type": "code",
   "execution_count": 25,
   "id": "02e30c5d-0beb-42b7-bc46-ccac5d00de14",
   "metadata": {},
   "outputs": [],
   "source": [
    "# 모델 학습 \n",
    "class Net(nn.Module):\n",
    "    def __init__(self):\n",
    "        super(Net, self).__init__()\n",
    "        self.conv1 = nn.Conv2d(3, 6, 5)\n",
    "        self.pool = nn.MaxPool2d(2, 2)\n",
    "        self.conv2 = nn.Conv2d(6, 16, 5)\n",
    "        self.fc1 = nn.Linear(16 * 5 * 5, 120)\n",
    "        self.fc2 = nn.Linear(120, 84)\n",
    "        self.fc3 = nn.Linear(84, 10)\n",
    "\n",
    "    def forward(self, x):\n",
    "        x = self.pool(F.relu(self.conv1(x)))\n",
    "        x = self.pool(F.relu(self.conv2(x)))\n",
    "        x = x.view(-1, 16 * 5 * 5)\n",
    "        x = F.relu(self.fc1(x))\n",
    "        x = F.relu(self.fc2(x))\n",
    "        x = self.fc3(x)\n",
    "        return x\n",
    "\n",
    "net = Net()"
   ]
  },
  {
   "cell_type": "code",
   "execution_count": 26,
   "id": "2a800f21-a941-4dcb-9af3-5abf4f64f88e",
   "metadata": {},
   "outputs": [],
   "source": [
    "# 학습에 필요한 손실 함수 및 최적화 방법\n",
    "criterion = nn.CrossEntropyLoss()\n",
    "optimizer = optim.SGD(net.parameters(), lr = 0.001, momentum = 0.9)"
   ]
  },
  {
   "cell_type": "markdown",
   "id": "2edfa6a3-8a79-44eb-bb76-0428e8bf7bb1",
   "metadata": {},
   "source": [
    "손실 함수(loss function)는 데이터 기반으로 모델이 예측한 정답 값이 얼마나 차이가 나는지를 표현하는 지표이다. <br>\n",
    "Cross-entropy 손실 함수는 일반적인 분류 모델의 전형적인 손실 함수이다. <br>\n",
    "\n",
    "optimizer는 학습의 필수요소이다. <br>\n",
    "아래 예제에서 간단한 최적화 알고리즘인 stochastic gradient descent를 구현한다. <br>\n",
    "SGD 알고리짐은 학습 속도인 (lr) 및 momentum 과 같은 매개 변수 외에도 모델의 모든 학습 가중치 값인 net.parameters()를 전달하는데, 이 함수는 최적화를 위해 파라미터를 조정한다."
   ]
  },
  {
   "cell_type": "code",
   "execution_count": 27,
   "id": "ed5e21e6-fce3-4d2d-a480-476d2f36e7fb",
   "metadata": {},
   "outputs": [
    {
     "name": "stdout",
     "output_type": "stream",
     "text": [
      "[1,  2000] loss: 2.241\n",
      "[1,  4000] loss: 1.877\n",
      "[1,  6000] loss: 1.672\n",
      "[1,  8000] loss: 1.571\n",
      "[1, 10000] loss: 1.514\n",
      "[1, 12000] loss: 1.460\n",
      "[2,  2000] loss: 1.398\n",
      "[2,  4000] loss: 1.372\n",
      "[2,  6000] loss: 1.342\n",
      "[2,  8000] loss: 1.334\n",
      "[2, 10000] loss: 1.290\n",
      "[2, 12000] loss: 1.285\n",
      "Finished Training\n"
     ]
    }
   ],
   "source": [
    "for epoch in range(2):  # 데이터셋을 여러 번 반복 학습한다.\n",
    "\n",
    "    running_loss = 0.0\n",
    "    for i, data in enumerate(trainloader, 0):\n",
    "        # 데이터를 통해 이미지와 정답값을 받는다.\n",
    "        inputs, labels = data\n",
    "\n",
    "        # 초기 기울기 파라미터를 0으로 설정한다.\n",
    "        optimizer.zero_grad()\n",
    "\n",
    "        # forward + backward + optimize\n",
    "        outputs = net(inputs)\n",
    "        loss = criterion(outputs, labels)\n",
    "        loss.backward()\n",
    "        optimizer.step()\n",
    "\n",
    "        # epoch 및 loss 값을 출력한다. \n",
    "        running_loss += loss.item()\n",
    "        if i % 2000 == 1999:    # 2000 mini-batches 마다 값을 출력한다. \n",
    "            print('[%d, %5d] loss: %.3f' %\n",
    "                  (epoch + 1, i + 1, running_loss / 2000))\n",
    "            running_loss = 0.0\n",
    "\n",
    "print('Finished Training')"
   ]
  },
  {
   "cell_type": "markdown",
   "id": "5700a461-75f5-453f-888c-6ea8ed302461",
   "metadata": {},
   "source": [
    "- 1번째 라인 : 이 예제에서 학습 에폭 2번만 반복한다. 즉, 학습 데이터셋을 두 번 모델에 통과시킨다. 각 패스에는 iterates over the training data\n",
    "- 4번째 라인 : 내부 루프가 있어 변환된 입력 이미지의 batch와 올바른 레이블을 제공한다.\n",
    "- 9번째 라인 : 기울기 값 초기화은 중요한 단계이다. 기울기는 batch에 걸쳐 누적된다. 모든 batch에 대해 기울기 값을 재설정하지 않으면 기울기 값이 계속 누적되어 잘못된 기울기 값을 제공하여 학습이 불가능하다.\n",
    "- 12번째 라인 : batch 데이터를 모델에게 예측을 요청한다. 다음 13번째라인에서 모델의 결과 값과 정답 값 차이인 손실값을 계산한다.\n",
    "- 14번째 라인 : backward() 를 통해 모델의 학습 기울기를 계산한다.\n",
    "- 15번째 라인 : 학습 단계의 최적화를 수행하는데 backward()를 통해 손실 값을 줄일 수 있는 방향으로 학습 가중치들을 조정한다.\n",
    "루프의 나머지 부분은 epoch 횟수, 학습 루프를 통해 수집된 손실 값을 출력한다. <br>\n",
    "\n",
    "손실 값은 단조롭게 감소하며, 이는 모델이 훈련 데이터셋에서 성능을 계속 향상시키고 있음을 보여준다. <br>\n",
    "마지막 단계로 모델이 단순하게 학습 데이터셋을 “기억” 하는 것이 아니라 실제로 일반화 학습을 잘 수행하고 있는 확인해야 한다. <br>\n",
    "이를 과적합 이라 부르며 일반적으로 데이터셋이 너무 작거나, 모델이 데이터셋 을 올바르게 모델링하는 데 필요한 것보다 더 많은 학습 파라미터 변수를 가지고 있음을 보여준다. <br>\n",
    "위와 같이 데이터셋이 학습 및 테스트 데이터셋으로 분할되는 이유이다. 모델의 일반성을 테스트하기 위해 학습되지 않은 데이터에 대해 예측하도록 요청한다. "
   ]
  },
  {
   "cell_type": "code",
   "execution_count": 28,
   "id": "a49bbaf8-d094-45b7-860c-d3e7c490f6a1",
   "metadata": {},
   "outputs": [
    {
     "name": "stdout",
     "output_type": "stream",
     "text": [
      "10000개 테스트 이미지에서 모델 정확도 : 53 %\n"
     ]
    }
   ],
   "source": [
    "correct = 0\n",
    "total = 0\n",
    "with torch.no_grad():\n",
    "    for data in testloader:\n",
    "        images, labels = data\n",
    "        outputs = net(images)\n",
    "        _, predicted = torch.max(outputs.data, 1)\n",
    "        total += labels.size(0)\n",
    "        correct += (predicted == labels).sum().item()\n",
    "\n",
    "print('10000개 테스트 이미지에서 모델 정확도 : %d %%' % (\n",
    "    100 * correct / total))"
   ]
  }
 ],
 "metadata": {
  "kernelspec": {
   "display_name": "Python 3 (ipykernel)",
   "language": "python",
   "name": "python3"
  },
  "language_info": {
   "codemirror_mode": {
    "name": "ipython",
    "version": 3
   },
   "file_extension": ".py",
   "mimetype": "text/x-python",
   "name": "python",
   "nbconvert_exporter": "python",
   "pygments_lexer": "ipython3",
   "version": "3.8.13"
  }
 },
 "nbformat": 4,
 "nbformat_minor": 5
}

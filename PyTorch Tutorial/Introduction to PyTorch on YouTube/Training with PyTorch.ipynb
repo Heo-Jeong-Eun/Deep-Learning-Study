{
 "cells": [
  {
   "cell_type": "markdown",
   "id": "962495b4-ba3a-451b-b55b-18a589d75506",
   "metadata": {},
   "source": [
    "# Training with PyTorch"
   ]
  },
  {
   "cell_type": "markdown",
   "id": "6da4dea5-77c7-45fa-a5bc-72a884c8a507",
   "metadata": {},
   "source": [
    "## Dataset and DataLoader"
   ]
  },
  {
   "cell_type": "code",
   "execution_count": 1,
   "id": "38242de2-2e31-4f24-96aa-d13d24d581c2",
   "metadata": {},
   "outputs": [
    {
     "name": "stderr",
     "output_type": "stream",
     "text": [
      "2023-12-22 17:30:11.234329: I tensorflow/core/platform/cpu_feature_guard.cc:182] This TensorFlow binary is optimized to use available CPU instructions in performance-critical operations.\n",
      "To enable the following instructions: AVX2 FMA, in other operations, rebuild TensorFlow with the appropriate compiler flags.\n"
     ]
    },
    {
     "name": "stdout",
     "output_type": "stream",
     "text": [
      "Training set has 60000 instances\n",
      "Validation set has 10000 instances\n"
     ]
    }
   ],
   "source": [
    "import torch\n",
    "import torchvision\n",
    "import torchvision.transforms as transforms\n",
    "\n",
    "# PyTorch TensorBoard support\n",
    "from torch.utils.tensorboard import SummaryWriter\n",
    "from datetime import datetime\n",
    "\n",
    "\n",
    "transform = transforms.Compose(\n",
    "    [transforms.ToTensor(),\n",
    "    transforms.Normalize((0.5,), (0.5,))])\n",
    "\n",
    "# Create datasets for training & validation, download if necessary\n",
    "training_set = torchvision.datasets.FashionMNIST('./data', train = True, transform = transform, download = True)\n",
    "validation_set = torchvision.datasets.FashionMNIST('./data', train = False, transform = transform, download = True)\n",
    "\n",
    "# Create data loaders for our datasets; shuffle for training, not for validation\n",
    "training_loader = torch.utils.data.DataLoader(training_set, batch_size = 4, shuffle = True)\n",
    "validation_loader = torch.utils.data.DataLoader(validation_set, batch_size = 4, shuffle = False)\n",
    "\n",
    "# Class labels\n",
    "classes = ('T-shirt/top', 'Trouser', 'Pullover', 'Dress', 'Coat',\n",
    "        'Sandal', 'Shirt', 'Sneaker', 'Bag', 'Ankle Boot')\n",
    "\n",
    "# Report split sizes\n",
    "print('Training set has {} instances'.format(len(training_set)))\n",
    "print('Validation set has {} instances'.format(len(validation_set)))"
   ]
  },
  {
   "cell_type": "code",
   "execution_count": 2,
   "id": "cc6a7917-4054-4a19-abfa-cad5c211fc25",
   "metadata": {},
   "outputs": [
    {
     "name": "stdout",
     "output_type": "stream",
     "text": [
      "Ankle Boot  Ankle Boot  T-shirt/top  Shirt\n"
     ]
    },
    {
     "data": {
      "image/png": "[encoded data removed]",
      "text/plain": [
       "<Figure size 640x480 with 1 Axes>"
      ]
     },
     "metadata": {},
     "output_type": "display_data"
    }
   ],
   "source": [
    "import matplotlib.pyplot as plt\n",
    "import numpy as np\n",
    "\n",
    "# Helper function for inline image display\n",
    "def matplotlib_imshow(img, one_channel = False):\n",
    "    if one_channel:\n",
    "        img = img.mean(dim = 0)\n",
    "    img = img / 2 + 0.5     # unnormalize\n",
    "    npimg = img.numpy()\n",
    "    if one_channel:\n",
    "        plt.imshow(npimg, cmap = \"Greys\")\n",
    "    else:\n",
    "        plt.imshow(np.transpose(npimg, (1, 2, 0)))\n",
    "\n",
    "dataiter = iter(training_loader)\n",
    "images, labels = next(dataiter)\n",
    "\n",
    "# Create a grid from the images and show them\n",
    "img_grid = torchvision.utils.make_grid(images)\n",
    "matplotlib_imshow(img_grid, one_channel = True)\n",
    "print('  '.join(classes[labels[j]] for j in range(4)))"
   ]
  },
  {
   "cell_type": "markdown",
   "id": "837385df-c4a6-49b0-a412-acb7abd481a6",
   "metadata": {},
   "source": [
    "## The Model"
   ]
  },
  {
   "cell_type": "code",
   "execution_count": 3,
   "id": "75bf6bf0-e9c1-4497-bf50-784e7dc8669a",
   "metadata": {},
   "outputs": [],
   "source": [
    "import torch.nn as nn\n",
    "import torch.nn.functional as F\n",
    "\n",
    "# PyTorch models inherit from torch.nn.Module\n",
    "class GarmentClassifier(nn.Module):\n",
    "    def __init__(self):\n",
    "        super(GarmentClassifier, self).__init__()\n",
    "        self.conv1 = nn.Conv2d(1, 6, 5)\n",
    "        self.pool = nn.MaxPool2d(2, 2)\n",
    "        self.conv2 = nn.Conv2d(6, 16, 5)\n",
    "        self.fc1 = nn.Linear(16 * 4 * 4, 120)\n",
    "        self.fc2 = nn.Linear(120, 84)\n",
    "        self.fc3 = nn.Linear(84, 10)\n",
    "\n",
    "    def forward(self, x):\n",
    "        x = self.pool(F.relu(self.conv1(x)))\n",
    "        x = self.pool(F.relu(self.conv2(x)))\n",
    "        x = x.view(-1, 16 * 4 * 4)\n",
    "        x = F.relu(self.fc1(x))\n",
    "        x = F.relu(self.fc2(x))\n",
    "        x = self.fc3(x)\n",
    "        return x\n",
    "\n",
    "model = GarmentClassifier()"
   ]
  },
  {
   "cell_type": "markdown",
   "id": "0796e358-fd0b-439c-81b7-541562d0bce7",
   "metadata": {},
   "source": [
    "## Loss Function"
   ]
  },
  {
   "cell_type": "code",
   "execution_count": 4,
   "id": "4a44a240-f765-4663-92a8-acecd579fdc8",
   "metadata": {},
   "outputs": [
    {
     "name": "stdout",
     "output_type": "stream",
     "text": [
      "tensor([[0.9805, 0.2152, 0.3060, 0.6673, 0.6315, 0.6541, 0.6958, 0.5569, 0.7460,\n",
      "         0.5007],\n",
      "        [0.1383, 0.9279, 0.0051, 0.4823, 0.8220, 0.8309, 0.4798, 0.3044, 0.9343,\n",
      "         0.5116],\n",
      "        [0.0723, 0.5378, 0.4929, 0.8566, 0.1141, 0.4729, 0.1096, 0.6903, 0.6955,\n",
      "         0.4368],\n",
      "        [0.0673, 0.7053, 0.3444, 0.2057, 0.4285, 0.2522, 0.3122, 0.3418, 0.0130,\n",
      "         0.3866]])\n",
      "tensor([1, 5, 3, 7])\n",
      "Total loss for this batch: 2.244236707687378\n"
     ]
    }
   ],
   "source": [
    "loss_fn = torch.nn.CrossEntropyLoss()\n",
    "\n",
    "# NB: Loss functions expect data in batches, so we're creating batches of 4\n",
    "# Represents the model's confidence in each of the 10 classes for a given input\n",
    "dummy_outputs = torch.rand(4, 10)\n",
    "# Represents the correct class among the 10 being tested\n",
    "dummy_labels = torch.tensor([1, 5, 3, 7])\n",
    "\n",
    "print(dummy_outputs)\n",
    "print(dummy_labels)\n",
    "\n",
    "loss = loss_fn(dummy_outputs, dummy_labels)\n",
    "print('Total loss for this batch: {}'.format(loss.item()))"
   ]
  },
  {
   "cell_type": "markdown",
   "id": "ab0e2751-a229-4a60-b956-a9d342e6c2a5",
   "metadata": {},
   "source": [
    "## Optimizer"
   ]
  },
  {
   "cell_type": "code",
   "execution_count": 5,
   "id": "7f4a9970-fcc7-483f-8ecf-443f07a1ac5b",
   "metadata": {},
   "outputs": [],
   "source": [
    "# Optimizers specified in the torch.optim package\n",
    "optimizer = torch.optim.SGD(model.parameters(), lr = 0.001, momentum = 0.9)"
   ]
  },
  {
   "cell_type": "markdown",
   "id": "5b081e31-faef-489f-bee3-81d59d66b14b",
   "metadata": {},
   "source": [
    "## The Training Loop"
   ]
  },
  {
   "cell_type": "code",
   "execution_count": 6,
   "id": "b8d2ff84-7a8a-4acd-8f22-35b7bfb90e63",
   "metadata": {},
   "outputs": [],
   "source": [
    "def train_one_epoch(epoch_index, tb_writer):\n",
    "    running_loss = 0.\n",
    "    last_loss = 0.\n",
    "\n",
    "    # Here, we use enumerate(training_loader) instead of\n",
    "    # iter(training_loader) so that we can track the batch\n",
    "    # index and do some intra-epoch reporting\n",
    "    for i, data in enumerate(training_loader):\n",
    "        # Every data instance is an input + label pair\n",
    "        inputs, labels = data\n",
    "\n",
    "        # Zero your gradients for every batch!\n",
    "        optimizer.zero_grad()\n",
    "\n",
    "        # Make predictions for this batch\n",
    "        outputs = model(inputs)\n",
    "\n",
    "        # Compute the loss and its gradients\n",
    "        loss = loss_fn(outputs, labels)\n",
    "        loss.backward()\n",
    "\n",
    "        # Adjust learning weights\n",
    "        optimizer.step()\n",
    "\n",
    "        # Gather data and report\n",
    "        running_loss += loss.item()\n",
    "        if i % 1000 == 999:\n",
    "            last_loss = running_loss / 1000 # loss per batch\n",
    "            print('  batch {} loss: {}'.format(i + 1, last_loss))\n",
    "            tb_x = epoch_index * len(training_loader) + i + 1\n",
    "            tb_writer.add_scalar('Loss/train', last_loss, tb_x)\n",
    "            running_loss = 0.\n",
    "\n",
    "    return last_loss"
   ]
  },
  {
   "cell_type": "markdown",
   "id": "e3b716d0-3d1f-47e0-9cd8-5e584207bf1a",
   "metadata": {},
   "source": [
    "## Per-Epoch Activity"
   ]
  },
  {
   "cell_type": "code",
   "execution_count": 7,
   "id": "577a5bce-4c33-4117-b202-9ed4f1094adb",
   "metadata": {},
   "outputs": [
    {
     "name": "stdout",
     "output_type": "stream",
     "text": [
      "EPOCH 1:\n",
      "  batch 1000 loss: 1.6972096836417914\n",
      "  batch 2000 loss: 0.7931953736189753\n",
      "  batch 3000 loss: 0.6955412378422916\n",
      "  batch 4000 loss: 0.6412624048034195\n",
      "  batch 5000 loss: 0.5861652485015802\n",
      "  batch 6000 loss: 0.5472061970736831\n",
      "  batch 7000 loss: 0.5443089009048417\n",
      "  batch 8000 loss: 0.4925223593113478\n",
      "  batch 9000 loss: 0.4978586726265203\n",
      "  batch 10000 loss: 0.4741094887822401\n",
      "  batch 11000 loss: 0.4718062538233353\n",
      "  batch 12000 loss: 0.4702615833274322\n",
      "  batch 13000 loss: 0.45745908593869533\n",
      "  batch 14000 loss: 0.43212055423812124\n",
      "  batch 15000 loss: 0.41398172690928914\n",
      "LOSS train 0.41398172690928914 valid 0.44834238290786743\n",
      "EPOCH 2:\n",
      "  batch 1000 loss: 0.3988154220287688\n",
      "  batch 2000 loss: 0.4079406488982786\n",
      "  batch 3000 loss: 0.3951057787991595\n",
      "  batch 4000 loss: 0.39046277311537414\n",
      "  batch 5000 loss: 0.3998036955227726\n",
      "  batch 6000 loss: 0.37654656404227715\n",
      "  batch 7000 loss: 0.36584329812336364\n",
      "  batch 8000 loss: 0.371605843160316\n",
      "  batch 9000 loss: 0.3872855871036299\n",
      "  batch 10000 loss: 0.3562472201475757\n",
      "  batch 11000 loss: 0.3611665177245304\n",
      "  batch 12000 loss: 0.36938486905687024\n",
      "  batch 13000 loss: 0.3569942398946732\n",
      "  batch 14000 loss: 0.36853060379823727\n",
      "  batch 15000 loss: 0.3573182446336141\n",
      "LOSS train 0.3573182446336141 valid 0.36328208446502686\n",
      "EPOCH 3:\n",
      "  batch 1000 loss: 0.33642326445828075\n",
      "  batch 2000 loss: 0.33749365938061965\n",
      "  batch 3000 loss: 0.32134603136370427\n",
      "  batch 4000 loss: 0.3454225853971438\n",
      "  batch 5000 loss: 0.32413884320287617\n",
      "  batch 6000 loss: 0.34574546538588763\n",
      "  batch 7000 loss: 0.33109683167006004\n",
      "  batch 8000 loss: 0.308907481219816\n",
      "  batch 9000 loss: 0.31800909772224256\n",
      "  batch 10000 loss: 0.32521088324637915\n",
      "  batch 11000 loss: 0.3343941582976695\n",
      "  batch 12000 loss: 0.3227167964421824\n",
      "  batch 13000 loss: 0.3275709688054485\n",
      "  batch 14000 loss: 0.32330620566084783\n",
      "  batch 15000 loss: 0.32925057836133054\n",
      "LOSS train 0.32925057836133054 valid 0.32735949754714966\n",
      "EPOCH 4:\n",
      "  batch 1000 loss: 0.29675737312363343\n",
      "  batch 2000 loss: 0.31134857004576044\n",
      "  batch 3000 loss: 0.29905069470878154\n",
      "  batch 4000 loss: 0.3016445270733493\n",
      "  batch 5000 loss: 0.2989981382082515\n",
      "  batch 6000 loss: 0.31820769707912405\n",
      "  batch 7000 loss: 0.3103728457433463\n",
      "  batch 8000 loss: 0.28635956308404276\n",
      "  batch 9000 loss: 0.2817979060868529\n",
      "  batch 10000 loss: 0.30241468487150724\n",
      "  batch 11000 loss: 0.30723235331890464\n",
      "  batch 12000 loss: 0.28321035315103654\n",
      "  batch 13000 loss: 0.28736976324100394\n",
      "  batch 14000 loss: 0.30537824302133504\n",
      "  batch 15000 loss: 0.31352870100981456\n",
      "LOSS train 0.31352870100981456 valid 0.34303396940231323\n",
      "EPOCH 5:\n",
      "  batch 1000 loss: 0.3000440004371521\n",
      "  batch 2000 loss: 0.27747528722620884\n",
      "  batch 3000 loss: 0.2808602118907729\n",
      "  batch 4000 loss: 0.2761296851159859\n",
      "  batch 5000 loss: 0.2747150102624364\n",
      "  batch 6000 loss: 0.2970919228537241\n",
      "  batch 7000 loss: 0.254577199993324\n",
      "  batch 8000 loss: 0.2691266682636051\n",
      "  batch 9000 loss: 0.28200692886993056\n",
      "  batch 10000 loss: 0.2915626174729532\n",
      "  batch 11000 loss: 0.2675698224699736\n",
      "  batch 12000 loss: 0.27788800368529154\n",
      "  batch 13000 loss: 0.28358617443313416\n",
      "  batch 14000 loss: 0.28572446922335437\n",
      "  batch 15000 loss: 0.28418089030055854\n",
      "LOSS train 0.28418089030055854 valid 0.3179556429386139\n"
     ]
    }
   ],
   "source": [
    "# Initializing in a separate cell so we can easily add more epochs to the same run\n",
    "timestamp = datetime.now().strftime('%Y%m%d_%H%M%S')\n",
    "writer = SummaryWriter('runs/fashion_trainer_{}'.format(timestamp))\n",
    "epoch_number = 0\n",
    "\n",
    "EPOCHS = 5\n",
    "\n",
    "best_vloss = 1_000_000.\n",
    "\n",
    "for epoch in range(EPOCHS):\n",
    "    print('EPOCH {}:'.format(epoch_number + 1))\n",
    "\n",
    "    # Make sure gradient tracking is on, and do a pass over the data\n",
    "    model.train(True)\n",
    "    avg_loss = train_one_epoch(epoch_number, writer)\n",
    "\n",
    "    # We don't need gradients on to do reporting\n",
    "    model.train(False)\n",
    "\n",
    "    running_vloss = 0.0\n",
    "    for i, vdata in enumerate(validation_loader):\n",
    "        vinputs, vlabels = vdata\n",
    "        voutputs = model(vinputs)\n",
    "        vloss = loss_fn(voutputs, vlabels)\n",
    "        running_vloss += vloss\n",
    "\n",
    "    avg_vloss = running_vloss / (i + 1)\n",
    "    print('LOSS train {} valid {}'.format(avg_loss, avg_vloss))\n",
    "\n",
    "    # Log the running loss averaged per batch\n",
    "    # for both training and validation\n",
    "    writer.add_scalars('Training vs. Validation Loss',\n",
    "                    {'Training' : avg_loss, 'Validation' : avg_vloss},\n",
    "                    epoch_number + 1)\n",
    "    writer.flush()\n",
    "\n",
    "    # Track best performance, and save the model's state\n",
    "    if avg_vloss < best_vloss:\n",
    "        best_vloss = avg_vloss\n",
    "        model_path = 'model_{}_{}'.format(timestamp, epoch_number)\n",
    "        torch.save(model.state_dict(), model_path)\n",
    "\n",
    "    epoch_number += 1"
   ]
  },
  {
   "cell_type": "code",
   "execution_count": null,
   "id": "1022845d-8018-4874-a300-6336524f43f0",
   "metadata": {},
   "outputs": [],
   "source": [
    "saved_model = GarmentClassifier()\n",
    "saved_model.load_state_dict(torch.load(PATH))"
   ]
  }
 ],
 "metadata": {
  "kernelspec": {
   "display_name": "Python 3 (ipykernel)",
   "language": "python",
   "name": "python3"
  },
  "language_info": {
   "codemirror_mode": {
    "name": "ipython",
    "version": 3
   },
   "file_extension": ".py",
   "mimetype": "text/x-python",
   "name": "python",
   "nbconvert_exporter": "python",
   "pygments_lexer": "ipython3",
   "version": "3.8.13"
  }
 },
 "nbformat": 4,
 "nbformat_minor": 5
}

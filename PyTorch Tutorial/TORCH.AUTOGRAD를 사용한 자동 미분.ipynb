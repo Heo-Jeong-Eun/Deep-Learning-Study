{
 "cells": [
  {
   "cell_type": "markdown",
   "id": "fd56402a-1ea5-4553-863a-f583ffac70b1",
   "metadata": {},
   "source": [
    "# TORCH.AUTOGRAD를 사용한 자동 미분\n",
    "\n",
    "신경망을 학습할 때 가장 자주 사용되는 알고리즘은 **역전파**이다. <br>\n",
    "이 알고리즘에서, 매개변수(모델 가중치)는 주어진 매개변수에 대한 손실 함수의 변화도(gradient)에 따라 조정된다. <br>\n",
    "이러한 변화도를 계산하기 위해 **PyTorch에는 torch.autograd라고 불리는 자동 미분 엔진이 내장**되어 있다. <br>\n",
    "이는 모든 계산 그래프에 대한 변화도의 자동 계산을 지원한다. <br>\n",
    "입력 x, 매개변수 w와 b 그리고 일부 손실 함수가 있는 가장 간단한 단일 계층 신경망을 가정하겠습니다. PyTorch에서는 다음과 같이 정의할 수 있다. "
   ]
  },
  {
   "cell_type": "code",
   "execution_count": 1,
   "id": "94de1e53-dd24-41a4-8ddd-4cfc0a830f30",
   "metadata": {},
   "outputs": [],
   "source": [
    "import torch\n",
    "\n",
    "x = torch.ones(5)  # input tensor\n",
    "y = torch.zeros(3)  # expected output\n",
    "w = torch.randn(5, 3, requires_grad = True)\n",
    "b = torch.randn(3, requires_grad = True)\n",
    "z = torch.matmul(x, w) + b\n",
    "loss = torch.nn.functional.binary_cross_entropy_with_logits(z, y)"
   ]
  },
  {
   "cell_type": "markdown",
   "id": "9c2ef3c6-778a-416b-9d55-3d87a3743311",
   "metadata": {},
   "source": [
    "## Tensor, Function과 연산그래프(Computational graph)\n",
    "\n",
    "<img src = 'https://tutorials.pytorch.kr/_images/comp-graph.png'>\n",
    "\n",
    "이 신경망에서, w와 b는 최적화를 해야 하는 매개변수이다. <br>\n",
    "따라서 이러한 변수들에 대한 손실 함수의 변화도를 계산할 수 있어야 한다. 이를 위해서 해당 텐서에 requires_grad 속성을 설정한다. <br>\n",
    "\n",
    "requires_grad의 값은 텐서를 생성할 때 설정하거나, 나중에 x.requires_grad_(True) 메소드를 사용하여 나중에 설정할 수도 있다. <br>\n",
    "\n",
    "연산 그래프를 구성하기 위해 텐서에 적용하는 함수는 사실 Function 클래스의 객체이다. <br>\n",
    "이 객체는 순전파 방향으로 함수를 계산하는 방법과, 역방향 전파 단계에서 도함수(derivative)를 계산하는 방법을 알고 있다. <br> \n",
    "역방향 전파 함수에 대한 참조(reference)는 텐서의 grad_fn 속성에 저장된다."
   ]
  },
  {
   "cell_type": "code",
   "execution_count": 2,
   "id": "a87c0d68-8fd8-496e-85ef-d44b15d6437f",
   "metadata": {},
   "outputs": [
    {
     "name": "stdout",
     "output_type": "stream",
     "text": [
      "Gradient function for z = <AddBackward0 object at 0x7ff5322bef70>\n",
      "Gradient function for loss = <BinaryCrossEntropyWithLogitsBackward0 object at 0x7ff53229a790>\n"
     ]
    }
   ],
   "source": [
    "print(f\"Gradient function for z = {z.grad_fn}\")\n",
    "print(f\"Gradient function for loss = {loss.grad_fn}\")"
   ]
  },
  {
   "cell_type": "markdown",
   "id": "6874e85c-df83-436b-9b6c-56429ae1bbe9",
   "metadata": {},
   "source": [
    "## 변화도(Gradient) 계산하기\n",
    "\n",
    "신경망에서 매개변수의 가중치를 최적화하려면 매개변수에 대한 손실함수의 도함수(derivative)를 계산해야 한다. <br>\n",
    "즉, x와 y의 일부 고정값에서 ∂loss / ∂w와 ∂loss / ∂b가 필요하다. <br>\n",
    "이러한 도함수를 계산하기 위해, loss.backward()를 호출한 다음 w.grad와 b.grad에서 값을 가져온다. "
   ]
  },
  {
   "cell_type": "code",
   "execution_count": 3,
   "id": "b3fcfcc7-aba4-411f-83d7-b9a1698531fa",
   "metadata": {},
   "outputs": [
    {
     "name": "stdout",
     "output_type": "stream",
     "text": [
      "tensor([[0.0153, 0.1024, 0.1093],\n",
      "        [0.0153, 0.1024, 0.1093],\n",
      "        [0.0153, 0.1024, 0.1093],\n",
      "        [0.0153, 0.1024, 0.1093],\n",
      "        [0.0153, 0.1024, 0.1093]])\n",
      "tensor([0.0153, 0.1024, 0.1093])\n"
     ]
    }
   ],
   "source": [
    "loss.backward()\n",
    "print(w.grad)\n",
    "print(b.grad)"
   ]
  },
  {
   "cell_type": "markdown",
   "id": "aa7b96d2-1726-4014-b6a8-851590c65784",
   "metadata": {},
   "source": [
    "연산 그래프의 잎(leaf) 노드들 중 requires_grad 속성이 True로 설정된 노드들의 grad 속성만 구할 수 있다. \n",
    "그래프의 다른 모든 노드에서는 변화도가 유효하지 않다. <br>\n",
    "\n",
    "성능 상의 이유로, 주어진 그래프에서의 backward를 사용한 변화도 계산은 한 번만 수행할 수 있다. <br>\n",
    "만약 동일한 그래프에서 여러번의 backward 호출이 필요하면, backward 호출 시에 retrain_graph=True를 전달해야 한다."
   ]
  },
  {
   "cell_type": "markdown",
   "id": "940d3fd7-902c-401a-b4f4-e35e596b27bd",
   "metadata": {},
   "source": [
    "## 변화도 추적 멈추기\n",
    "\n",
    "기본적으로, requires_grad = True인 모든 텐서들은 연산 기록을 추적하고 변화도 계산을 지원한다. <br>\n",
    "그러나 모델을 학습한 뒤 입력 데이터를 단순히 적용하기만 하는 경우와 같이 순전파 연산만 필요한 경우에는, 이러한 추적이나 지원이 필요 없을 수 있다. <br>\n",
    "연산 코드를 torch.no_grad() 블록으로 둘러싸서 연산 추적을 멈출 수 있다."
   ]
  },
  {
   "cell_type": "code",
   "execution_count": 4,
   "id": "e8c92435-d32e-40ec-8164-a4fc96174a32",
   "metadata": {},
   "outputs": [
    {
     "name": "stdout",
     "output_type": "stream",
     "text": [
      "True\n",
      "False\n"
     ]
    }
   ],
   "source": [
    "z = torch.matmul(x, w) + b\n",
    "print(z.requires_grad)\n",
    "\n",
    "with torch.no_grad():\n",
    "    z = torch.matmul(x, w) + b\n",
    "print(z.requires_grad)"
   ]
  },
  {
   "cell_type": "markdown",
   "id": "e45ac505-3e5c-456e-9da5-55f04a904ae0",
   "metadata": {},
   "source": [
    "동일한 결과를 얻는 다른 방법은 텐서에 detach() 메소드를 사용하는 것이다."
   ]
  },
  {
   "cell_type": "code",
   "execution_count": 6,
   "id": "83376aaa-d7c2-47f2-b5d8-d604a82c4573",
   "metadata": {},
   "outputs": [
    {
     "name": "stdout",
     "output_type": "stream",
     "text": [
      "False\n"
     ]
    }
   ],
   "source": [
    "z = torch.matmul(x, w) + b\n",
    "z_det = z.detach()\n",
    "print(z_det.requires_grad)"
   ]
  },
  {
   "cell_type": "markdown",
   "id": "64c7cde4-a846-4785-bbbb-405d5a49b08b",
   "metadata": {},
   "source": [
    "**변화도 추적을 멈춰야 하는 이유**\n",
    "\n",
    "- 신경망의 일부 매개변수를 고정된 매개변수(frozen parameter)로 표시한다. \n",
    "- 변화도를 추적하지 않는 텐서의 연산이 더 효율적이기 때문에, 순전파 단계만 수행할 때 연산 속도가 향상된다."
   ]
  },
  {
   "cell_type": "markdown",
   "id": "e1cf3cbd-8cad-4543-94f7-779e0fe6d4d0",
   "metadata": {},
   "source": [
    "## 연산 그래프에 대한 추가 정보\n",
    "\n",
    "개념적으로, autograd는 데이터(텐서)의 및 실행된 모든 연산들(및 연산 결과가 새로운 텐서인 경우도 포함하여)의 기록을 Function 객체로 구성된 방향성 비순환 그래프(DAG; Directed Acyclic Graph)에 저장(keep)한다. <br>\n",
    "이 방향성 비순환 그래프(DAG)의 잎(leave)은 입력 텐서이고, 뿌리(root)는 결과 텐서이다. <br>\n",
    "이 그래프를 뿌리에서부터 잎까지 추적하면 연쇄 법칙(chain rule)에 따라 변화도를 자동으로 계산할 수 있다. <br>\n",
    "\n",
    "순전파 단계에서, autograd는 다음 두 가지 작업을 동시에 수행한다. <br>\n",
    "요청된 연산을 수행하여 결과 텐서를 계산하고, DAG에 연산의 변화도 기능(gradient function)를 유지(maintain)한다. <br>\n",
    "\n",
    "역전파 단계는 DAG 뿌리(root)에서 .backward() 가 호출될 때 시작된다. <br>\n",
    "autograd는 이 때 각 .grad_fn 으로부터 변화도를 계산하고, 각 텐서의 .grad 속성에 계산 결과를 쌓고(accumulate),연쇄 법칙을 사용하여, 모든 잎(leaf) 텐서들까지 전파(propagate)한다. <br>\n",
    "\n",
    "PyTorch에서 DAG들은 동적(dynamic)입니다. <br>\n",
    "주목해야 할 중요한 점은 그래프가 처음부터(from scratch) 다시 생성된다는 것이다. <br>\n",
    "매번 .bachward()가 호출되고 나면, autograd는 새로운 그래프를 채우기(populate) 시작한다. <br>\n",
    "이러한 점 덕분에 모델에서 흐름 제어(control flow) 구문들을 사용할 수 있게 되는 것이다. <br>\n",
    "매번 반복(iteration)할 때마다 필요하면 모양(shape)이나 크기(size), 연산(operation)을 바꿀 수 있다."
   ]
  },
  {
   "cell_type": "markdown",
   "id": "3885ba05-3402-4f8c-8d1f-0e755e6c3759",
   "metadata": {},
   "source": [
    "## 선택적으로 읽기(Optional Reading): 텐서 변화도와 야코비안 곱 (Jacobian Product)\n",
    "\n",
    "<img width=\"831\" alt=\"스크린샷 2023-12-15 오후 9 38 59\" src=\"https://github.com/Heo-Jeong-Eun/Deep-Learning-Study/assets/60500256/117bd6c0-a006-49f8-a131-05c123d51216\">"
   ]
  },
  {
   "cell_type": "code",
   "execution_count": 7,
   "id": "33d7b44a-6e5a-48b5-8e1e-8bb2d4374dc8",
   "metadata": {},
   "outputs": [
    {
     "name": "stdout",
     "output_type": "stream",
     "text": [
      "First call\n",
      "tensor([[4., 2., 2., 2., 2.],\n",
      "        [2., 4., 2., 2., 2.],\n",
      "        [2., 2., 4., 2., 2.],\n",
      "        [2., 2., 2., 4., 2.]])\n",
      "\n",
      "Second call\n",
      "tensor([[8., 4., 4., 4., 4.],\n",
      "        [4., 8., 4., 4., 4.],\n",
      "        [4., 4., 8., 4., 4.],\n",
      "        [4., 4., 4., 8., 4.]])\n",
      "\n",
      "Call after zeroing gradients\n",
      "tensor([[4., 2., 2., 2., 2.],\n",
      "        [2., 4., 2., 2., 2.],\n",
      "        [2., 2., 4., 2., 2.],\n",
      "        [2., 2., 2., 4., 2.]])\n"
     ]
    }
   ],
   "source": [
    "inp = torch.eye(4, 5, requires_grad = True)\n",
    "out = (inp+1).pow(2).t()\n",
    "out.backward(torch.ones_like(out), retain_graph = True)\n",
    "print(f\"First call\\n{inp.grad}\")\n",
    "out.backward(torch.ones_like(out), retain_graph = True)\n",
    "print(f\"\\nSecond call\\n{inp.grad}\")\n",
    "inp.grad.zero_()\n",
    "out.backward(torch.ones_like(out), retain_graph = True)\n",
    "print(f\"\\nCall after zeroing gradients\\n{inp.grad}\")"
   ]
  },
  {
   "cell_type": "markdown",
   "id": "9138f8d3-70a1-43ab-b3e4-bc329b97e194",
   "metadata": {},
   "source": [
    "동일한 인자로 backward를 두 차례 호출하면 변화도 값이 달라진다. <br>\n",
    "이는 역방향 전파를 수행할 때, PyTorch가 변화도를 누적(accumulate)해주기 때문이다. <br>\n",
    "즉, 계산된 변화도의 값이 연산 그래프의 모든 잎(leaf) 노드의 grad 속성에 추가된다. <br>\n",
    "따라서 제대로 된 변화도를 계산하기 위해서는 grad 속성을 먼저 0으로 만들어야 한다. <br>\n",
    "실제 학습 과정에서는 옵티마이저(optimizer)가 이 과정을 도와준다. <br>\n",
    "\n",
    "이전에는 매개변수 없이 backward() 함수를 호출했다. <br>\n",
    "이는 본질적으로 backward(torch.tensor(1.0))을 호출하는 것과 동일하며, 신경망 훈련 중의 손실과 같은 스칼라-값 함수의 변화도를 계산하는 유용한 방법이다."
   ]
  }
 ],
 "metadata": {
  "kernelspec": {
   "display_name": "Python 3 (ipykernel)",
   "language": "python",
   "name": "python3"
  },
  "language_info": {
   "codemirror_mode": {
    "name": "ipython",
    "version": 3
   },
   "file_extension": ".py",
   "mimetype": "text/x-python",
   "name": "python",
   "nbconvert_exporter": "python",
   "pygments_lexer": "ipython3",
   "version": "3.8.13"
  }
 },
 "nbformat": 4,
 "nbformat_minor": 5
}

{
 "cells": [
  {
   "cell_type": "markdown",
   "id": "f2e6408a-28bb-4a5d-995c-58d06a438781",
   "metadata": {},
   "source": [
    "# TRANSFORM\n",
    "\n",
    "데이터가 항상 머신러닝 알고리즘 학습에 필요한 최종 처리가 된 형태로 제공되지는 않는다. **변형(transform) 을 해서 데이터를 조작하고 학습에 적합하게 만든다.** <br>\n",
    "\n",
    "모든 TorchVision 데이터셋들은 변형 로직을 갖는, 호출 가능한 객체(callable)를 받는 매개변수 두 개(특징(feature)을 변경하기 위한 transform과 정답(label)을 변경하기 위한 target_transform)를 갖는다. <br>\n",
    "torchvision.transforms 모듈은 주로 사용하는 몇가지 변형(transform)을 제공한다. <br>\n",
    "\n",
    "FashionMNIST 특징(feature)은 PIL Image 형식이며, 정답(label)은 정수(integer)이다. <br>\n",
    "학습을 하려면 정규화(normalize)된 텐서 형태의 특징(feature)과 원-핫(one-hot)으로 부호화(encode)된 텐서 형태의 정답(label)이 필요하다. <br>\n",
    "이러한 변형(transformation)을 하기 위해 ToTensor와 Lambda를 사용한다."
   ]
  },
  {
   "cell_type": "code",
   "execution_count": 1,
   "id": "4863f4c6-cd28-4486-a9f3-b23c1ee4f5fa",
   "metadata": {},
   "outputs": [],
   "source": [
    "import torch\n",
    "from torchvision import datasets\n",
    "from torchvision.transforms import ToTensor, Lambda\n",
    "\n",
    "ds = datasets.FashionMNIST(\n",
    "    root = \"data\",\n",
    "    train = True,\n",
    "    download = True,\n",
    "    transform = ToTensor(),\n",
    "    target_transform = Lambda(lambda y: torch.zeros(10, dtype = torch.float).scatter_(0, torch.tensor(y), value = 1))\n",
    ")"
   ]
  },
  {
   "cell_type": "markdown",
   "id": "dc37b41d-0f3a-4589-add1-a556331f3077",
   "metadata": {},
   "source": [
    "## ToTensor()\n",
    "ToTensor 는 PIL Image나 NumPy ndarray를 FloatTensor로 변환하고, 이미지의 픽셀의 크기(intensity) 값을 [0., 1.] 범위로 비례하여 조정(scale)한다. <br>\n",
    "\n",
    "## Lambda 변형(Transform)\n",
    "Lambda 변형은 사용자 정의 람다(lambda) 함수를 적용한다. <br>\n",
    "여기에서는 정수를 원-핫으로 부호화된 텐서로 바꾸는 함수를 정의한다. <br>\n",
    "이 함수는 먼저 (데이터셋 정답의 개수인) 크기 10짜리 영 텐서(zero tensor)를 만들고, scatter_를 호출하여 주어진 정답 y에 해당하는 인덱스에 value = 1을 할당한다."
   ]
  },
  {
   "cell_type": "code",
   "execution_count": 2,
   "id": "919fcac2-0595-48e5-b697-5a4f42c5f9f2",
   "metadata": {},
   "outputs": [],
   "source": [
    "target_transform = Lambda(lambda y: torch.zeros(\n",
    "    10, dtype = torch.float).scatter_(dim = 0, index = torch.tensor(y), value = 1))"
   ]
  }
 ],
 "metadata": {
  "kernelspec": {
   "display_name": "Python 3 (ipykernel)",
   "language": "python",
   "name": "python3"
  },
  "language_info": {
   "codemirror_mode": {
    "name": "ipython",
    "version": 3
   },
   "file_extension": ".py",
   "mimetype": "text/x-python",
   "name": "python",
   "nbconvert_exporter": "python",
   "pygments_lexer": "ipython3",
   "version": "3.8.13"
  }
 },
 "nbformat": 4,
 "nbformat_minor": 5
}

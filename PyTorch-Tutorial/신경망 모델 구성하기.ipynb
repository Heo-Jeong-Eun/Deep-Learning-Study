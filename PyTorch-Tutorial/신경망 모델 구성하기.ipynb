{
 "cells": [
  {
   "cell_type": "markdown",
   "id": "682cf2e4-2044-4676-899f-7c68b9f87ccb",
   "metadata": {},
   "source": [
    "# 신경망 모델 구성하기\n",
    "\n",
    "**신경망은 데이터에 대한 연산을 수행하는 계층(layer) / 모듈(module)로 구성**import os\n",
    "import torch\n",
    "from torch import nn\n",
    "from torch.utils.data import DataLoader\n",
    "from torchvision import datasets, transforms되어 있다. <br>\n",
    "torch.nn 네임스페이스는 신경망을 구성하는데 필요한 모든 구성 요소를 제공한다. <br>\n",
    "PyTorch의 모든 모듈은 nn.Module 의 하위 클래스(subclass)이다. <br>\n",
    "신경망은 다른 모듈(계층; layer)로 구성된 모듈이다. 이러한 중첩된 구조는 복잡한 아키텍처를 쉽게 구축하고 관리할 수 있다. "
   ]
  },
  {
   "cell_type": "code",
   "execution_count": 1,
   "id": "a53288d5-57e7-4f00-9833-0d085f3bbb91",
   "metadata": {},
   "outputs": [],
   "source": [
    "import os\n",
    "import torch\n",
    "from torch import nn\n",
    "from torch.utils.data import DataLoader\n",
    "from torchvision import datasets, transforms"
   ]
  },
  {
   "cell_type": "markdown",
   "id": "53d7399b-e671-4ac3-b827-5bbf48a2c719",
   "metadata": {},
   "source": [
    "## 학습을 위한 장치 얻기 \n",
    "\n",
    "가능한 경우 GPU 또는 MPS와 같은 하드웨어 가속기에서 모델을 학습하려고 한다. <br>\n",
    "torch.cuda 또는 torch.backends.mps가 사용 가능한지 확인하고, 불가능한 경우 CPU를 계속 사용한다."
   ]
  },
  {
   "cell_type": "code",
   "execution_count": 2,
   "id": "90760e31-5c58-4eba-9dff-3fa851799ee6",
   "metadata": {},
   "outputs": [
    {
     "name": "stdout",
     "output_type": "stream",
     "text": [
      "Using cpu device\n"
     ]
    }
   ],
   "source": [
    "device = (\n",
    "    \"cuda\"\n",
    "    if torch.cuda.is_available()\n",
    "    else \"mps\"\n",
    "    if torch.backends.mps.is_available()\n",
    "    else \"cpu\"\n",
    ")\n",
    "print(f\"Using {device} device\")"
   ]
  },
  {
   "cell_type": "markdown",
   "id": "e9ebe4d3-2725-4bb5-bc92-3ac65f2f5cc9",
   "metadata": {},
   "source": [
    "## 클래스 정의하기\n",
    "\n",
    "신경망 모델을 nn.Module의 하위클래스로 정의하고, \\__init__ 에서 신경망 계층들을 초기화한다. <br>\n",
    "nn.Module을 상속받은 모든 클래스는 forward 메소드에 입력 데이터에 대한 연산들을 구현한다."
   ]
  },
  {
   "cell_type": "code",
   "execution_count": 3,
   "id": "d02c41a3-0bc3-4cfa-a611-9c7a5adc39e6",
   "metadata": {},
   "outputs": [],
   "source": [
    "class NeuralNetwork(nn.Module):\n",
    "    def __init__(self):\n",
    "        super().__init__()\n",
    "        self.flatten = nn.Flatten()\n",
    "        self.linear_relu_stack = nn.Sequential(\n",
    "            nn.Linear(28 * 28, 512),\n",
    "            nn.ReLU(),\n",
    "            nn.Linear(512, 512),\n",
    "            nn.ReLU(),\n",
    "            nn.Linear(512, 10),\n",
    "        )\n",
    "\n",
    "    def forward(self, x):\n",
    "        x = self.flatten(x)\n",
    "        logits = self.linear_relu_stack(x)\n",
    "        return logits"
   ]
  },
  {
   "cell_type": "markdown",
   "id": "e806b4b1-e8f2-467a-bc6b-5868492afbdc",
   "metadata": {},
   "source": [
    "NeuralNetwork의 인스턴스(instance)를 생성하고 이를 device로 이동한 뒤, 구조(structure)를 출력한다."
   ]
  },
  {
   "cell_type": "code",
   "execution_count": 4,
   "id": "a64d940a-078c-457e-b460-6b6a27c702fc",
   "metadata": {},
   "outputs": [
    {
     "name": "stdout",
     "output_type": "stream",
     "text": [
      "NeuralNetwork(\n",
      "  (flatten): Flatten(start_dim=1, end_dim=-1)\n",
      "  (linear_relu_stack): Sequential(\n",
      "    (0): Linear(in_features=784, out_features=512, bias=True)\n",
      "    (1): ReLU()\n",
      "    (2): Linear(in_features=512, out_features=512, bias=True)\n",
      "    (3): ReLU()\n",
      "    (4): Linear(in_features=512, out_features=10, bias=True)\n",
      "  )\n",
      ")\n"
     ]
    }
   ],
   "source": [
    "model = NeuralNetwork().to(device)\n",
    "print(model)"
   ]
  },
  {
   "cell_type": "markdown",
   "id": "16cf88a1-a33d-44db-b207-01ed33a65227",
   "metadata": {},
   "source": [
    "모델을 사용하기 위해 입력 데이터를 전달한다. <br>\n",
    "이는 일부 백그라운드 연산들 과 함께 모델의 forward를 실행한다. model.forward() 직접 호출 X <br>\n",
    "\n",
    "모델에 입력을 전달하여 호출하면 2차원 텐서를 반환한다. <br>\n",
    "2차원 텐서의 dim=0은 각 분류(class)에 대한 원시(raw) 예측값 10개가, dim=1에는 각 출력의 개별 값들이 해당한다. <br>\n",
    "원시 예측값을 nn.Softmax 모듈의 인스턴스에 통과시켜 예측 확률을 얻다."
   ]
  },
  {
   "cell_type": "code",
   "execution_count": 5,
   "id": "f8ca6b1a-76b8-4d49-bc58-fe71f413dc37",
   "metadata": {},
   "outputs": [
    {
     "name": "stdout",
     "output_type": "stream",
     "text": [
      "Predicted class : tensor([6])\n"
     ]
    }
   ],
   "source": [
    "X = torch.rand(1, 28, 28, device = device)\n",
    "logits = model(X)\n",
    "pred_probab = nn.Softmax(dim = 1)(logits)\n",
    "y_pred = pred_probab.argmax(1)\n",
    "print(f\"Predicted class : {y_pred}\")"
   ]
  },
  {
   "cell_type": "markdown",
   "id": "5144c856-3295-4c88-b5b6-c0d9c7806134",
   "metadata": {},
   "source": [
    "## 모델 계층(Layer)"
   ]
  },
  {
   "cell_type": "code",
   "execution_count": 6,
   "id": "87cef27a-877d-42b9-b877-4aca00b9afa0",
   "metadata": {},
   "outputs": [
    {
     "name": "stdout",
     "output_type": "stream",
     "text": [
      "torch.Size([3, 28, 28])\n"
     ]
    }
   ],
   "source": [
    "input_image = torch.rand(3, 28, 28)\n",
    "print(input_image.size())"
   ]
  },
  {
   "cell_type": "markdown",
   "id": "42785a5a-8da6-4bf7-a7b7-0f3a7125ccd3",
   "metadata": {},
   "source": [
    "### nn.Flatten\n",
    "\n",
    "nn.Flatten 계층을 초기화하여 각 28x28의 2D 이미지를 784 픽셀 값을 갖는 연속된 배열로 변환한다. (dim=0의 미니배치 차원은 유지)"
   ]
  },
  {
   "cell_type": "code",
   "execution_count": 7,
   "id": "72195cb3-b9ed-4701-81b4-c95fd2ba5888",
   "metadata": {},
   "outputs": [
    {
     "name": "stdout",
     "output_type": "stream",
     "text": [
      "torch.Size([3, 784])\n"
     ]
    }
   ],
   "source": [
    "flatten = nn.Flatten()\n",
    "flat_image = flatten(input_image)\n",
    "print(flat_image.size())"
   ]
  },
  {
   "cell_type": "markdown",
   "id": "1d4f788b-4fa9-4c61-9343-8cc149a48e96",
   "metadata": {},
   "source": [
    "### nn.Linear\n",
    "\n",
    "선형 계층 은 저장된 가중치(weight)와 편향(bias)을 사용하여 입력에 선형 변환(linear transformation)을 적용하는 모듈이다. "
   ]
  },
  {
   "cell_type": "code",
   "execution_count": 8,
   "id": "377af63f-7a71-4e84-9421-3142b6aa3913",
   "metadata": {},
   "outputs": [
    {
     "name": "stdout",
     "output_type": "stream",
     "text": [
      "torch.Size([3, 20])\n"
     ]
    }
   ],
   "source": [
    "layer1 = nn.Linear(in_features = 28 * 28, out_features = 20)\n",
    "hidden1 = layer1(flat_image)\n",
    "print(hidden1.size())"
   ]
  },
  {
   "cell_type": "markdown",
   "id": "614cd49f-aab6-4736-915d-e3d999c0242b",
   "metadata": {},
   "source": [
    "### nn.ReLU\n",
    "\n",
    "비선형 활성화(activation)는 모델의 입력과 출력 사이에 복잡한 관계(mapping)를 만든다. <br>\n",
    "비선형 활성화는 선형 변환 후에 적용되어 비선형성(nonlinearity) 을 도입하고, 신경망이 다양한 현상을 학습할 수 있도록 돕는다. <br>\n",
    "이 모델에서는 nn.ReLU 를 선형 계층들 사이에 사용하지만, 모델을 만들 때는 비선형성을 가진 다른 활성화를 도입할 수도 있다."
   ]
  },
  {
   "cell_type": "code",
   "execution_count": 10,
   "id": "3c1351bf-a893-40d6-aec8-67b4cbb28b38",
   "metadata": {},
   "outputs": [
    {
     "name": "stdout",
     "output_type": "stream",
     "text": [
      "Before ReLU : tensor([[0.0550, 0.0000, 0.0000, 0.2826, 0.0000, 0.0000, 0.0000, 0.6215, 0.0000,\n",
      "         0.0000, 0.1061, 0.4159, 0.0729, 0.0000, 0.0000, 0.0000, 0.2014, 0.0000,\n",
      "         0.0000, 0.0000],\n",
      "        [0.0000, 0.0000, 0.0802, 0.7210, 0.4435, 0.0000, 0.0000, 0.3338, 0.0000,\n",
      "         0.0000, 0.0000, 0.4058, 0.2215, 0.0000, 0.0189, 0.0000, 0.2231, 0.0000,\n",
      "         0.0845, 0.0000],\n",
      "        [0.0000, 0.0000, 0.0000, 0.2286, 0.5757, 0.0000, 0.0000, 0.1504, 0.0000,\n",
      "         0.0000, 0.0941, 0.2163, 0.0813, 0.0000, 0.0472, 0.0000, 0.0000, 0.0000,\n",
      "         0.1785, 0.0000]], grad_fn=<ReluBackward0>)\n",
      "\n",
      "\n",
      "After ReLU: tensor([[0.0550, 0.0000, 0.0000, 0.2826, 0.0000, 0.0000, 0.0000, 0.6215, 0.0000,\n",
      "         0.0000, 0.1061, 0.4159, 0.0729, 0.0000, 0.0000, 0.0000, 0.2014, 0.0000,\n",
      "         0.0000, 0.0000],\n",
      "        [0.0000, 0.0000, 0.0802, 0.7210, 0.4435, 0.0000, 0.0000, 0.3338, 0.0000,\n",
      "         0.0000, 0.0000, 0.4058, 0.2215, 0.0000, 0.0189, 0.0000, 0.2231, 0.0000,\n",
      "         0.0845, 0.0000],\n",
      "        [0.0000, 0.0000, 0.0000, 0.2286, 0.5757, 0.0000, 0.0000, 0.1504, 0.0000,\n",
      "         0.0000, 0.0941, 0.2163, 0.0813, 0.0000, 0.0472, 0.0000, 0.0000, 0.0000,\n",
      "         0.1785, 0.0000]], grad_fn=<ReluBackward0>)\n"
     ]
    }
   ],
   "source": [
    "print(f\"Before ReLU : {hidden1}\\n\\n\")\n",
    "hidden1 = nn.ReLU()(hidden1)\n",
    "print(f\"After ReLU: {hidden1}\")"
   ]
  },
  {
   "cell_type": "markdown",
   "id": "aaf23ce3-4e86-475c-b269-13b1d5b44582",
   "metadata": {},
   "source": [
    "### nn.Sequential\n",
    "\n",
    "nn.Sequential은 순서를 갖는 모듈의 컨테이너이다. <br>\n",
    "데이터는 정의된 것과 같은 순서로 모든 모듈들을 통해 전달된다. <br> \n",
    "순차 컨테이너(sequential container)를 사용하여 아래의 seq_modules 와 같은 신경망을 빠르게 만들 수 있다."
   ]
  },
  {
   "cell_type": "code",
   "execution_count": 11,
   "id": "e35b7754-a498-404e-b1a4-03d1b6161f77",
   "metadata": {},
   "outputs": [],
   "source": [
    "seq_modules = nn.Sequential(\n",
    "    flatten,\n",
    "    layer1,\n",
    "    nn.ReLU(),\n",
    "    nn.Linear(20, 10)\n",
    ")\n",
    "input_image = torch.rand(3, 28, 28)\n",
    "logits = seq_modules(input_image)"
   ]
  },
  {
   "cell_type": "markdown",
   "id": "d40890fe-d7d2-4301-bc07-b7f8db12518e",
   "metadata": {},
   "source": [
    "### nn.Softmax\n",
    "\n",
    "신경망의 마지막 선형 계층은 nn.Softmax 모듈에 전달될 ([-infty, infty] 범위의 원시 값(raw value)인) logits를 반환한다. <br>\n",
    "logits는 모델의 각 분류(class)에 대한 예측 확률을 나타내도록 [0, 1] 범위로 비례하여 조정(scale)된다. <br>\n",
    "dim 매개변수는 값의 합이 1이 되는 차원을 나타낸다."
   ]
  },
  {
   "cell_type": "code",
   "execution_count": 12,
   "id": "367f0f9e-e2e4-40f1-a0d0-2588ae11dabd",
   "metadata": {},
   "outputs": [],
   "source": [
    "softmax = nn.Softmax(dim = 1)\n",
    "pred_probab = softmax(logits)"
   ]
  },
  {
   "cell_type": "markdown",
   "id": "123c9859-ead8-4eaa-b170-769e95d9bd59",
   "metadata": {},
   "source": [
    "## 모델 매개변수\n",
    "\n",
    "신경망 내부의 많은 계층들은 매개변수화(parameterize)된다. <br>\n",
    "즉, 학습 중에 최적화되는 가중치와 편향과 연관지어진다. nn.Module 을 상속하면 모델 객체 내부의 모든 필드들이 자동으로 추적(track)되며, 모델의 parameters() 및 named_parameters() 메소드로 모든 매개변수에 접근할 수 있게 된다. <br>\n",
    "\n",
    "이 예제에서는 각 매개변수들을 순회하며(iterate), 매개변수의 크기와 값을 출력한다."
   ]
  },
  {
   "cell_type": "code",
   "execution_count": 13,
   "id": "d63e822b-d892-493f-a789-9eb41e28a6ea",
   "metadata": {},
   "outputs": [
    {
     "name": "stdout",
     "output_type": "stream",
     "text": [
      "Model structure : NeuralNetwork(\n",
      "  (flatten): Flatten(start_dim=1, end_dim=-1)\n",
      "  (linear_relu_stack): Sequential(\n",
      "    (0): Linear(in_features=784, out_features=512, bias=True)\n",
      "    (1): ReLU()\n",
      "    (2): Linear(in_features=512, out_features=512, bias=True)\n",
      "    (3): ReLU()\n",
      "    (4): Linear(in_features=512, out_features=10, bias=True)\n",
      "  )\n",
      ")\n",
      "\n",
      "\n",
      "Layer : linear_relu_stack.0.weight | Size : torch.Size([512, 784]) | Values : tensor([[-0.0006, -0.0079,  0.0064,  ..., -0.0100, -0.0267, -0.0105],\n",
      "        [-0.0140, -0.0158,  0.0343,  ..., -0.0172,  0.0031,  0.0122]],\n",
      "       grad_fn=<SliceBackward0>) \n",
      "\n",
      "Layer : linear_relu_stack.0.bias | Size : torch.Size([512]) | Values : tensor([0.0234, 0.0068], grad_fn=<SliceBackward0>) \n",
      "\n",
      "Layer : linear_relu_stack.2.weight | Size : torch.Size([512, 512]) | Values : tensor([[-0.0269,  0.0358, -0.0428,  ..., -0.0435, -0.0021, -0.0383],\n",
      "        [ 0.0027,  0.0416, -0.0154,  ...,  0.0260,  0.0371, -0.0120]],\n",
      "       grad_fn=<SliceBackward0>) \n",
      "\n",
      "Layer : linear_relu_stack.2.bias | Size : torch.Size([512]) | Values : tensor([-0.0187,  0.0234], grad_fn=<SliceBackward0>) \n",
      "\n",
      "Layer : linear_relu_stack.4.weight | Size : torch.Size([10, 512]) | Values : tensor([[ 0.0348,  0.0316, -0.0322,  ...,  0.0223, -0.0376,  0.0313],\n",
      "        [-0.0115,  0.0424,  0.0338,  ...,  0.0428, -0.0386, -0.0108]],\n",
      "       grad_fn=<SliceBackward0>) \n",
      "\n",
      "Layer : linear_relu_stack.4.bias | Size : torch.Size([10]) | Values : tensor([ 0.0014, -0.0044], grad_fn=<SliceBackward0>) \n",
      "\n"
     ]
    }
   ],
   "source": [
    "print(f\"Model structure : {model}\\n\\n\")\n",
    "\n",
    "for name, param in model.named_parameters():\n",
    "    print(f\"Layer : {name} | Size : {param.size()} | Values : {param[:2]} \\n\")"
   ]
  }
 ],
 "metadata": {
  "kernelspec": {
   "display_name": "Python 3 (ipykernel)",
   "language": "python",
   "name": "python3"
  },
  "language_info": {
   "codemirror_mode": {
    "name": "ipython",
    "version": 3
   },
   "file_extension": ".py",
   "mimetype": "text/x-python",
   "name": "python",
   "nbconvert_exporter": "python",
   "pygments_lexer": "ipython3",
   "version": "3.8.13"
  }
 },
 "nbformat": 4,
 "nbformat_minor": 5
}

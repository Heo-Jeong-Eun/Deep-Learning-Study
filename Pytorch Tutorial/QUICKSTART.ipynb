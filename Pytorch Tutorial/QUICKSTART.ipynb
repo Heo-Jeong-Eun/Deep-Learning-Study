{
 "cells": [
  {
   "cell_type": "markdown",
   "id": "0030bba0-31ae-4d72-b0cb-325a44738ac3",
   "metadata": {},
   "source": [
    "# 파이토치(PYTORCH) 기본 익히기"
   ]
  },
  {
   "cell_type": "markdown",
   "id": "89fba3b8-dd6e-4d60-b436-c4f40c4f6e13",
   "metadata": {},
   "source": [
    "대부분의 머신러닝 워크플로우는 데이터 작업과 모델 생성, 모델 매개변수 최적화, 학습된 모델 저장이 포함된다. <br>\n",
    "FashionMNIST 데이터셋을 사용하여 입력 이미지가 다음 분류(class) 중 하나에 속하는지를 예측하는 신경망을 학습합니다"
   ]
  },
  {
   "cell_type": "markdown",
   "id": "79b8a9f2-92f1-4c5f-829b-eec0bee6fa9e",
   "metadata": {},
   "source": [
    "# QUICKSTART"
   ]
  },
  {
   "cell_type": "markdown",
   "id": "8f4b282d-cd19-4d88-bf22-56309234c01a",
   "metadata": {},
   "source": [
    "## 데이터 작업하기 \n",
    "\n",
    "파이토치(PyTorch)에는 데이터 작업을 위한 기본 요소 두가지인 **torch.utils.data.DataLoader** 와 **torch.utils.data.Dataset**가 있다. <br>\n",
    "Dataset은 샘플과 정답(label)을 저장하고, DataLoader는 Dataset을 순회 가능한 객체(iterable)로 감싼다. "
   ]
  },
  {
   "cell_type": "code",
   "execution_count": 1,
   "id": "9e9168b2-245a-45b6-afdf-0a3615103f7f",
   "metadata": {},
   "outputs": [],
   "source": [
    "import torch\n",
    "from torch import nn\n",
    "from torch.utils.data import DataLoader\n",
    "from torchvision import datasets\n",
    "from torchvision.transforms import ToTensor"
   ]
  },
  {
   "cell_type": "markdown",
   "id": "d024c678-dc15-4bf7-915f-2af733e82875",
   "metadata": {},
   "source": [
    "PyTorch는 TorchText, TorchVision 및 TorchAudio 와 같이 도메인 특화 라이브러리를 데이터셋과 함께 제공하고 있다. <br>\n",
    "torchvision.datasets 모듈은 CIFAR, COCO 등과 같은 다양한 실제 비전(vision) 데이터에 대한 Dataset(전체 목록은 여기)을 포함하고 있다. <br>\n",
    "모든 TorchVision Dataset은 샘플과 정답을 각각 변경하기 위한 transform과 target_transform의 두 인자를 포함한다."
   ]
  },
  {
   "cell_type": "code",
   "execution_count": 2,
   "id": "9e3ff06b-6aa6-4bf4-8ad8-293a66b4b2f0",
   "metadata": {},
   "outputs": [
    {
     "name": "stdout",
     "output_type": "stream",
     "text": [
      "Downloading http://fashion-mnist.s3-website.eu-central-1.amazonaws.com/train-images-idx3-ubyte.gz\n",
      "Downloading http://fashion-mnist.s3-website.eu-central-1.amazonaws.com/train-images-idx3-ubyte.gz to data/FashionMNIST/raw/train-images-idx3-ubyte.gz\n"
     ]
    },
    {
     "name": "stderr",
     "output_type": "stream",
     "text": [
      "100%|██████████████████████████| 26421880/26421880 [00:05<00:00, 4548075.18it/s]\n"
     ]
    },
    {
     "name": "stdout",
     "output_type": "stream",
     "text": [
      "Extracting data/FashionMNIST/raw/train-images-idx3-ubyte.gz to data/FashionMNIST/raw\n",
      "\n",
      "Downloading http://fashion-mnist.s3-website.eu-central-1.amazonaws.com/train-labels-idx1-ubyte.gz\n",
      "Downloading http://fashion-mnist.s3-website.eu-central-1.amazonaws.com/train-labels-idx1-ubyte.gz to data/FashionMNIST/raw/train-labels-idx1-ubyte.gz\n"
     ]
    },
    {
     "name": "stderr",
     "output_type": "stream",
     "text": [
      "100%|██████████████████████████████████| 29515/29515 [00:00<00:00, 71906.92it/s]\n"
     ]
    },
    {
     "name": "stdout",
     "output_type": "stream",
     "text": [
      "Extracting data/FashionMNIST/raw/train-labels-idx1-ubyte.gz to data/FashionMNIST/raw\n",
      "\n",
      "Downloading http://fashion-mnist.s3-website.eu-central-1.amazonaws.com/t10k-images-idx3-ubyte.gz\n",
      "Downloading http://fashion-mnist.s3-website.eu-central-1.amazonaws.com/t10k-images-idx3-ubyte.gz to data/FashionMNIST/raw/t10k-images-idx3-ubyte.gz\n"
     ]
    },
    {
     "name": "stderr",
     "output_type": "stream",
     "text": [
      "100%|█████████████████████████████| 4422102/4422102 [00:07<00:00, 572335.47it/s]\n"
     ]
    },
    {
     "name": "stdout",
     "output_type": "stream",
     "text": [
      "Extracting data/FashionMNIST/raw/t10k-images-idx3-ubyte.gz to data/FashionMNIST/raw\n",
      "\n",
      "Downloading http://fashion-mnist.s3-website.eu-central-1.amazonaws.com/t10k-labels-idx1-ubyte.gz\n",
      "Downloading http://fashion-mnist.s3-website.eu-central-1.amazonaws.com/t10k-labels-idx1-ubyte.gz to data/FashionMNIST/raw/t10k-labels-idx1-ubyte.gz\n"
     ]
    },
    {
     "name": "stderr",
     "output_type": "stream",
     "text": [
      "100%|██████████████████████████████████| 5148/5148 [00:00<00:00, 2965157.51it/s]"
     ]
    },
    {
     "name": "stdout",
     "output_type": "stream",
     "text": [
      "Extracting data/FashionMNIST/raw/t10k-labels-idx1-ubyte.gz to data/FashionMNIST/raw\n",
      "\n"
     ]
    },
    {
     "name": "stderr",
     "output_type": "stream",
     "text": [
      "\n"
     ]
    }
   ],
   "source": [
    "# 공개 데이터셋에서 학습 데이터를 내려받는다.\n",
    "training_data = datasets.FashionMNIST(\n",
    "    root = \"data\",\n",
    "    train = True,\n",
    "    download = True,\n",
    "    transform = ToTensor(),\n",
    ")\n",
    "\n",
    "# 공개 데이터셋에서 테스트 데이터를 내려받는다.\n",
    "test_data = datasets.FashionMNIST(\n",
    "    root = \"data\",\n",
    "    train = False,\n",
    "    download = True,\n",
    "    transform = ToTensor(),\n",
    ")"
   ]
  },
  {
   "cell_type": "markdown",
   "id": "482821df-4484-4dd3-af94-bf1ba344c5f9",
   "metadata": {},
   "source": [
    "Dataset 을 DataLoader 의 인자로 전달한다. 이는 데이터셋을 순회 가능한 객체(iterable)로 감싸고, 자동화된 배치(batch), 샘플링(sampling), 섞기(shuffle) 및 다중 프로세스로 데이터 불러오기(multiprocess data loading)를 지원한다. <br>\n",
    "배치 크기(batch size)를 64로 정의한다. 즉, **데이터로더(dataloader) 객체의 각 요소는 64개의 특징(feature)과 정답(label)을 묶음(batch)으로 반환**한다."
   ]
  },
  {
   "cell_type": "code",
   "execution_count": 3,
   "id": "6c406819-a4d7-4bc5-93d4-e5dbe8170066",
   "metadata": {},
   "outputs": [
    {
     "name": "stdout",
     "output_type": "stream",
     "text": [
      "Shape of X [N, C, H, W]: torch.Size([64, 1, 28, 28])\n",
      "Shape of y: torch.Size([64]) torch.int64\n"
     ]
    }
   ],
   "source": [
    "batch_size = 64\n",
    "\n",
    "# 데이터로더를 생성\n",
    "train_dataloader = DataLoader(training_data, batch_size = batch_size)\n",
    "test_dataloader = DataLoader(test_data, batch_size = batch_size)\n",
    "\n",
    "for X, y in test_dataloader:\n",
    "    print(f\"Shape of X [N, C, H, W]: {X.shape}\")\n",
    "    print(f\"Shape of y : {y.shape} {y.dtype}\")\n",
    "    break"
   ]
  },
  {
   "cell_type": "markdown",
   "id": "a18ea716-1400-494c-a8fb-d4d50e67cb93",
   "metadata": {},
   "source": [
    "## 모델 만들기 \n",
    "\n",
    "PyTorch에서 신경망 모델은 nn.Module을 상속받는 클래스(class)를 생성하여 정의한다. <br>\n",
    "\\__init__ 함수에서 신경망의 계층(layer)들을 정의하고 forward 함수에서 신경망에 데이터를 어떻게 전달할지 지정한다. 가능한 경우 GPU 또는 MPS로 신경망을 이동시켜 연산을 가속(accelerate)한다."
   ]
  },
  {
   "cell_type": "code",
   "execution_count": 4,
   "id": "50aabf95-ce10-4624-8019-b07b452e30c2",
   "metadata": {},
   "outputs": [
    {
     "name": "stdout",
     "output_type": "stream",
     "text": [
      "Using cpu device\n",
      "NeuralNetwork(\n",
      "  (flatten): Flatten(start_dim=1, end_dim=-1)\n",
      "  (linear_relu_stack): Sequential(\n",
      "    (0): Linear(in_features=784, out_features=512, bias=True)\n",
      "    (1): ReLU()\n",
      "    (2): Linear(in_features=512, out_features=512, bias=True)\n",
      "    (3): ReLU()\n",
      "    (4): Linear(in_features=512, out_features=10, bias=True)\n",
      "  )\n",
      ")\n"
     ]
    }
   ],
   "source": [
    "# 학습에 사용할 CPU나 GPU, MPS 장치를 얻는다.\n",
    "device = (\n",
    "    \"cuda\"\n",
    "    if torch.cuda.is_available()\n",
    "    else \"mps\"\n",
    "    if torch.backends.mps.is_available()\n",
    "    else \"cpu\"\n",
    ")\n",
    "print(f\"Using {device} device\")\n",
    "\n",
    "# 모델을 정의합니다.\n",
    "class NeuralNetwork(nn.Module):\n",
    "    def __init__(self):\n",
    "        super().__init__()\n",
    "        self.flatten = nn.Flatten()\n",
    "        self.linear_relu_stack = nn.Sequential(\n",
    "            nn.Linear(28 * 28, 512),\n",
    "            nn.ReLU(),\n",
    "            nn.Linear(512, 512),\n",
    "            nn.ReLU(),\n",
    "            nn.Linear(512, 10)\n",
    "        )\n",
    "\n",
    "    def forward(self, x):\n",
    "        x = self.flatten(x)\n",
    "        logits = self.linear_relu_stack(x)\n",
    "        return logits\n",
    "\n",
    "model = NeuralNetwork().to(device)\n",
    "print(model)"
   ]
  },
  {
   "cell_type": "markdown",
   "id": "29ba441c-ea4f-49bc-9790-01f22778534e",
   "metadata": {},
   "source": [
    "## 모델 매개 변수 최적화하기\n",
    "\n",
    "**모델을 학습하려면 손실 함수(loss function) 와 옵티마이저(optimizer)가 필요**하다."
   ]
  },
  {
   "cell_type": "code",
   "execution_count": 5,
   "id": "2ca8a8a3-f881-44ff-a543-0b87b121bec1",
   "metadata": {},
   "outputs": [],
   "source": [
    "loss_fn = nn.CrossEntropyLoss()\n",
    "optimizer = torch.optim.SGD(model.parameters(), lr = 1e-3)"
   ]
  },
  {
   "cell_type": "markdown",
   "id": "05293765-8a79-40df-82f6-fc6c9a767661",
   "metadata": {},
   "source": [
    "각 학습 단계(training loop)에서 모델은 (배치(batch)로 제공되는) 학습 데이터셋에 대한 예측을 수행하고, 예측 오류를 역전파하여 모델의 매개변수를 조정한다. "
   ]
  },
  {
   "cell_type": "code",
   "execution_count": 6,
   "id": "162db015-1d40-4783-ab4c-1d1eed222d78",
   "metadata": {},
   "outputs": [],
   "source": [
    "def train(dataloader, model, loss_fn, optimizer):\n",
    "    size = len(dataloader.dataset)\n",
    "    for batch, (X, y) in enumerate(dataloader):\n",
    "        X, y = X.to(device), y.to(device)\n",
    "\n",
    "        # 예측 오류 계산\n",
    "        pred = model(X)\n",
    "        loss = loss_fn(pred, y)\n",
    "\n",
    "        # 역전파\n",
    "        optimizer.zero_grad()\n",
    "        loss.backward()\n",
    "        optimizer.step()\n",
    "\n",
    "        if batch % 100 == 0:\n",
    "            loss, current = loss.item(), (batch + 1) * len(X)\n",
    "            print(f\"loss : {loss:>7f} [{current:>5d} / {size:>5d}]\")"
   ]
  },
  {
   "cell_type": "markdown",
   "id": "6e59335f-b9fd-43c0-93e0-9e97136500ce",
   "metadata": {},
   "source": [
    "모델이 학습하고 있는지를 확인하기 위해 테스트 데이터셋으로 모델의 성능을 확인한다. "
   ]
  },
  {
   "cell_type": "code",
   "execution_count": 7,
   "id": "ad6ac4ed-ae9c-4083-97b1-eefda7b73e68",
   "metadata": {},
   "outputs": [],
   "source": [
    "def test(dataloader, model, loss_fn):\n",
    "    size = len(dataloader.dataset)\n",
    "    num_batches = len(dataloader)\n",
    "    model.eval()\n",
    "    test_loss, correct = 0, 0\n",
    "    with torch.no_grad():\n",
    "        for X, y in dataloader:\n",
    "            X, y = X.to(device), y.to(device)\n",
    "            pred = model(X)\n",
    "            test_loss += loss_fn(pred, y).item()\n",
    "            correct += (pred.argmax(1) == y).type(torch.float).sum().item()\n",
    "    test_loss /= num_batches\n",
    "    correct /= size\n",
    "    print(f\"Test Error : \\n Accuracy : {(100*correct):>0.1f}%, Avg loss : {test_loss:>8f} \\n\")"
   ]
  },
  {
   "cell_type": "markdown",
   "id": "144ff569-d85c-4a24-8500-2c7b60b02b92",
   "metadata": {},
   "source": [
    "학습 단계는 여러번의 반복 단계 (에폭(epochs)) 를 거쳐서 수행된다. <br>\n",
    "각 에폭에서는 모델은 더 나은 예측을 하기 위해 매개변수를 학습한다. <br> \n",
    "각 에폭마다 모델의 정확도(accuracy)와 손실(loss)을 출력한다. 에폭마다 정확도가 증가하고 손실이 감소하는 것을 보기 위함이다. "
   ]
  },
  {
   "cell_type": "code",
   "execution_count": 8,
   "id": "948aa202-4589-417b-8d57-367311cb9fe7",
   "metadata": {},
   "outputs": [
    {
     "name": "stdout",
     "output_type": "stream",
     "text": [
      "Epoch 1\n",
      "-------------------------------\n",
      "loss : 2.309604 [   64 / 60000]\n",
      "loss : 2.294350 [ 6464 / 60000]\n",
      "loss : 2.278631 [12864 / 60000]\n",
      "loss : 2.270844 [19264 / 60000]\n",
      "loss : 2.253793 [25664 / 60000]\n",
      "loss : 2.222768 [32064 / 60000]\n",
      "loss : 2.230092 [38464 / 60000]\n",
      "loss : 2.202173 [44864 / 60000]\n",
      "loss : 2.191372 [51264 / 60000]\n",
      "loss : 2.144901 [57664 / 60000]\n",
      "Test Error : \n",
      " Accuracy : 44.9%, Avg loss : 2.156803 \n",
      "\n",
      "Epoch 2\n",
      "-------------------------------\n",
      "loss : 2.174288 [   64 / 60000]\n",
      "loss : 2.156698 [ 6464 / 60000]\n",
      "loss : 2.104168 [12864 / 60000]\n",
      "loss : 2.113619 [19264 / 60000]\n",
      "loss : 2.067751 [25664 / 60000]\n",
      "loss : 2.005852 [32064 / 60000]\n",
      "loss : 2.024726 [38464 / 60000]\n",
      "loss : 1.957115 [44864 / 60000]\n",
      "loss : 1.949608 [51264 / 60000]\n",
      "loss : 1.857783 [57664 / 60000]\n",
      "Test Error : \n",
      " Accuracy : 57.0%, Avg loss : 1.880733 \n",
      "\n",
      "Epoch 3\n",
      "-------------------------------\n",
      "loss : 1.920694 [   64 / 60000]\n",
      "loss : 1.883434 [ 6464 / 60000]\n",
      "loss : 1.772096 [12864 / 60000]\n",
      "loss : 1.804447 [19264 / 60000]\n",
      "loss : 1.701424 [25664 / 60000]\n",
      "loss : 1.649764 [32064 / 60000]\n",
      "loss : 1.659714 [38464 / 60000]\n",
      "loss : 1.575189 [44864 / 60000]\n",
      "loss : 1.591643 [51264 / 60000]\n",
      "loss : 1.472398 [57664 / 60000]\n",
      "Test Error : \n",
      " Accuracy : 60.5%, Avg loss : 1.511565 \n",
      "\n",
      "Epoch 4\n",
      "-------------------------------\n",
      "loss : 1.582878 [   64 / 60000]\n",
      "loss : 1.545015 [ 6464 / 60000]\n",
      "loss : 1.398897 [12864 / 60000]\n",
      "loss : 1.466193 [19264 / 60000]\n",
      "loss : 1.352709 [25664 / 60000]\n",
      "loss : 1.348456 [32064 / 60000]\n",
      "loss : 1.350632 [38464 / 60000]\n",
      "loss : 1.285307 [44864 / 60000]\n",
      "loss : 1.314684 [51264 / 60000]\n",
      "loss : 1.210454 [57664 / 60000]\n",
      "Test Error : \n",
      " Accuracy : 63.2%, Avg loss : 1.247494 \n",
      "\n",
      "Epoch 5\n",
      "-------------------------------\n",
      "loss : 1.326001 [   64 / 60000]\n",
      "loss : 1.308262 [ 6464 / 60000]\n",
      "loss : 1.142104 [12864 / 60000]\n",
      "loss : 1.247121 [19264 / 60000]\n",
      "loss : 1.129086 [25664 / 60000]\n",
      "loss : 1.150513 [32064 / 60000]\n",
      "loss : 1.161375 [38464 / 60000]\n",
      "loss : 1.105952 [44864 / 60000]\n",
      "loss : 1.141958 [51264 / 60000]\n",
      "loss : 1.054014 [57664 / 60000]\n",
      "Test Error : \n",
      " Accuracy : 64.9%, Avg loss : 1.084262 \n",
      "\n",
      "Done!\n"
     ]
    }
   ],
   "source": [
    "epochs = 5\n",
    "for t in range(epochs):\n",
    "    print(f\"Epoch {t + 1}\\n-------------------------------\")\n",
    "    train(train_dataloader, model, loss_fn, optimizer)\n",
    "    test(test_dataloader, model, loss_fn)\n",
    "print(\"Done!\")"
   ]
  },
  {
   "cell_type": "markdown",
   "id": "93b00b31-2d49-454f-a711-3e936cfc3234",
   "metadata": {},
   "source": [
    "## 모델 저장하기 \n",
    "\n",
    "모델을 저장하는 일반적인 방법은 (모델의 매개변수들을 포함하여) 내부 상태 사전(internal state dictionary)을 직렬화(serialize)하는 것이다. "
   ]
  },
  {
   "cell_type": "code",
   "execution_count": 10,
   "id": "96015603-a63d-4027-b93c-f87969ac5b2b",
   "metadata": {},
   "outputs": [
    {
     "name": "stdout",
     "output_type": "stream",
     "text": [
      "Saved PyTorch Model State to model.pth\n"
     ]
    }
   ],
   "source": [
    "torch.save(model.state_dict(), \"model.pth\")\n",
    "print(\"Saved PyTorch Model State to model.pth\")"
   ]
  },
  {
   "cell_type": "markdown",
   "id": "5c007318-3328-438c-9561-0942b71b9e68",
   "metadata": {},
   "source": [
    "이제 이 모델을 사용해 예측을 할 수 있다. "
   ]
  },
  {
   "cell_type": "code",
   "execution_count": 11,
   "id": "0c6aecd2-4148-4a33-9abe-3833376a8dfc",
   "metadata": {},
   "outputs": [
    {
     "name": "stdout",
     "output_type": "stream",
     "text": [
      "Predicted : \"Ankle boot\", Actual : \"Ankle boot\"\n"
     ]
    }
   ],
   "source": [
    "classes = [\n",
    "    \"T-shirt/top\",\n",
    "    \"Trouser\",\n",
    "    \"Pullover\",\n",
    "    \"Dress\",\n",
    "    \"Coat\",\n",
    "    \"Sandal\",\n",
    "    \"Shirt\",\n",
    "    \"Sneaker\",\n",
    "    \"Bag\",\n",
    "    \"Ankle boot\",\n",
    "]\n",
    "\n",
    "model.eval()\n",
    "x, y = test_data[0][0], test_data[0][1]\n",
    "with torch.no_grad():\n",
    "    x = x.to(device)\n",
    "    pred = model(x)\n",
    "    predicted, actual = classes[pred[0].argmax(0)], classes[y]\n",
    "    print(f'Predicted : \"{predicted}\", Actual : \"{actual}\"')"
   ]
  }
 ],
 "metadata": {
  "kernelspec": {
   "display_name": "Python 3 (ipykernel)",
   "language": "python",
   "name": "python3"
  },
  "language_info": {
   "codemirror_mode": {
    "name": "ipython",
    "version": 3
   },
   "file_extension": ".py",
   "mimetype": "text/x-python",
   "name": "python",
   "nbconvert_exporter": "python",
   "pygments_lexer": "ipython3",
   "version": "3.8.13"
  }
 },
 "nbformat": 4,
 "nbformat_minor": 5
}
